{
  "nbformat": 4,
  "nbformat_minor": 0,
  "metadata": {
    "colab": {
      "provenance": []
    },
    "kernelspec": {
      "name": "python3",
      "display_name": "Python 3"
    },
    "language_info": {
      "name": "python"
    }
  },
  "cells": [
    {
      "cell_type": "markdown",
      "source": [
        "**Task 1 was skipped due to 6000 level only**"
      ],
      "metadata": {
        "id": "z8jJ-QA6SBMC"
      }
    },
    {
      "cell_type": "markdown",
      "source": [
        "**Task 2 Part 1 (10 Points):** We will use a weather dataset (time-series) to demonstrate the usage of\n",
        "Recurrent Neural Networks (RNNs). In particular, we will focus on predicting\n",
        "future weather attributes (e.g., temperature) based on historical patterns.\n",
        "\n",
        "**Why sequence models (RNNs)?**\n",
        "Weather data has a strong temporal component: measurements at one time step\n",
        "depend on previous time steps. RNNs (and their variants like LSTMs and GRUs)\n",
        "are well-suited for capturing these temporal dependencies via a hidden state\n",
        "that evolves over time.\n",
        "\n",
        "**Dataset:**\n",
        "We are using a publicly available weather dataset from ([Kaggle Weather Dataset](https://www.kaggle.com/datasets/muthuj7/weather-dataset))\n",
        "\n",
        "**Objective:**\n",
        "- Predict the next day’s temperature from the past 7 days (or any chosen window size).\n",
        "- Evaluate performance on both a validation set and a test set using MSE/MAE.\n",
        "\n",
        "**Framework Choice:** TensorFlow/Keras\n",
        "- We'll implement an RNN (specifically an LSTM) for our weather prediction model\n",
        "using the Keras API."
      ],
      "metadata": {
        "id": "jp0zryHgyyIy"
      }
    },
    {
      "cell_type": "markdown",
      "source": [
        "**Data Formatting and CSV Structure**\n",
        "\n",
        "The weather dataset we are using is in a CSV (comma-separated values) file. Each row corresponds to a specific time (in this case, hourly records). Below is an example of a few rows from the dataset:\n",
        "\n",
        "| Formatted Date                  | Summary         | Precip Type | Temperature (C) | Apparent Temperature (C) | Humidity | Wind Speed (km/h) | Wind Bearing (degrees) | Visibility (km) | Loud Cover | Pressure (millibars) | Daily Summary                       |\n",
        "|--------------------------------|-----------------|-------------|-----------------|--------------------------|----------|-------------------|------------------------|-----------------|-----------|----------------------|--------------------------------------|\n",
        "| 2006-04-01 00:00:00.000 +0200  | Partly Cloudy   | rain        | 9.472222        | 7.388889                 | 0.89     | 14.1197           | 251.0                  | 15.8263         | 0.0       | 1015.13             | Partly cloudy throughout the day.    |\n",
        "| 2006-04-01 01:00:00.000 +0200  | Partly Cloudy   | rain        | 9.355556        | 7.227778                 | 0.86     | 14.2646           | 259.0                  | 15.8263         | 0.0       | 1015.63             | Partly cloudy throughout the day.    |\n",
        "| 2006-04-01 02:00:00.000 +0200  | Mostly Cloudy   | rain        | 9.377778        | 9.377778                 | 0.89     | 3.9284            | 204.0                  | 14.9569         | 0.0       | 1015.94             | Partly cloudy throughout the day.    |\n",
        "| 2006-04-01 03:00:00.000 +0200  | Partly Cloudy   | rain        | 8.288889        | 5.944444                 | 0.83     | 14.1036           | 269.0                  | 15.8263         | 0.0       | 1016.41             | Partly cloudy throughout the day.    |\n",
        "| 2006-04-01 04:00:00.000 +0200  | Mostly Cloudy   | rain        | 8.755556        | 6.977778                 | 0.83     | 11.0446           | 259.0                  | 15.8263         | 0.0       | 1016.51             | Partly cloudy throughout the day.    |\n",
        "\n",
        "Here is a description of each column:\n",
        "- **Formatted Date:** A timestamp specifying the exact date and time (including timezone).\n",
        "- **Summary:** A short textual description of the weather conditions (e.g., \"Partly Cloudy\").\n",
        "- **Precip Type:** Indicates the type of precipitation (e.g., \"rain\", \"snow\", or null if none).\n",
        "- **Temperature (C):** The measured temperature in degrees Celsius.\n",
        "- **Apparent Temperature (C):** The \"feels-like\" temperature, accounting for factors like wind.\n",
        "- **Humidity:** The relative humidity, typically ranging from 0.0 (no moisture) to 1.0 (saturated).\n",
        "- **Wind Speed (km/h):** How fast the wind is blowing, measured in kilometers per hour.\n",
        "- **Wind Bearing (degrees):** The compass direction the wind is coming from, in degrees (0-360).\n",
        "- **Visibility (km):** The average distance one can see, in kilometers.\n",
        "- **Loud Cover / Cloud Cover:** (Possibly a typo in some datasets) This represents the fraction of the sky covered by clouds. A value of 0.0 means no cloud cover, and 1.0 would mean completely overcast.\n",
        "- **Pressure (millibars):** The atmospheric pressure in millibars.\n",
        "- **Daily Summary:** A longer textual description summarizing the overall daily weather pattern.\n",
        "\n",
        "In this assignment, we will clean, scale, and transform the relevant columns\n",
        "into training sequences. Then we will train, validate, and test an LSTM or\n",
        "other RNN architecture to forecast future temperature values."
      ],
      "metadata": {
        "id": "0gF0g2V42yS6"
      }
    },
    {
      "cell_type": "code",
      "source": [
        "# Importing necessary libraries\n",
        "import numpy as np\n",
        "import pandas as pd\n",
        "import matplotlib.pyplot as plt\n",
        "import seaborn as sns\n",
        "import tensorflow as tf\n",
        "from tensorflow import keras\n",
        "from tensorflow.keras import layers\n",
        "print(\"TensorFlow version:\",tf.__version__)\n",
        "print(\"Libraries imported\")"
      ],
      "metadata": {
        "colab": {
          "base_uri": "https://localhost:8080/"
        },
        "id": "YG5cWfXxzCrR",
        "outputId": "71d4b508-874a-49ae-ec55-4d84bb08a6f6"
      },
      "execution_count": 42,
      "outputs": [
        {
          "output_type": "stream",
          "name": "stdout",
          "text": [
            "TensorFlow version: 2.18.0\n",
            "Libraries imported\n"
          ]
        }
      ]
    },
    {
      "cell_type": "code",
      "source": [
        "data_path = 'weatherHistory.csv'\n",
        "df = pd.read_csv(data_path)\n",
        "\n",
        "df.head()"
      ],
      "metadata": {
        "colab": {
          "base_uri": "https://localhost:8080/",
          "height": 310
        },
        "id": "qeCGKSRBzNIT",
        "outputId": "99cf0ef9-b814-43a3-953b-34c02c2edfa8"
      },
      "execution_count": 43,
      "outputs": [
        {
          "output_type": "execute_result",
          "data": {
            "text/plain": [
              "                  Formatted Date        Summary Precip Type  Temperature (C)  \\\n",
              "0  2006-04-01 00:00:00.000 +0200  Partly Cloudy        rain         9.472222   \n",
              "1  2006-04-01 01:00:00.000 +0200  Partly Cloudy        rain         9.355556   \n",
              "2  2006-04-01 02:00:00.000 +0200  Mostly Cloudy        rain         9.377778   \n",
              "3  2006-04-01 03:00:00.000 +0200  Partly Cloudy        rain         8.288889   \n",
              "4  2006-04-01 04:00:00.000 +0200  Mostly Cloudy        rain         8.755556   \n",
              "\n",
              "   Apparent Temperature (C)  Humidity  Wind Speed (km/h)  \\\n",
              "0                  7.388889      0.89            14.1197   \n",
              "1                  7.227778      0.86            14.2646   \n",
              "2                  9.377778      0.89             3.9284   \n",
              "3                  5.944444      0.83            14.1036   \n",
              "4                  6.977778      0.83            11.0446   \n",
              "\n",
              "   Wind Bearing (degrees)  Visibility (km)  Loud Cover  Pressure (millibars)  \\\n",
              "0                   251.0          15.8263         0.0               1015.13   \n",
              "1                   259.0          15.8263         0.0               1015.63   \n",
              "2                   204.0          14.9569         0.0               1015.94   \n",
              "3                   269.0          15.8263         0.0               1016.41   \n",
              "4                   259.0          15.8263         0.0               1016.51   \n",
              "\n",
              "                       Daily Summary  \n",
              "0  Partly cloudy throughout the day.  \n",
              "1  Partly cloudy throughout the day.  \n",
              "2  Partly cloudy throughout the day.  \n",
              "3  Partly cloudy throughout the day.  \n",
              "4  Partly cloudy throughout the day.  "
            ],
            "text/html": [
              "\n",
              "  <div id=\"df-07857456-4443-4da8-b989-89ee12b68134\" class=\"colab-df-container\">\n",
              "    <div>\n",
              "<style scoped>\n",
              "    .dataframe tbody tr th:only-of-type {\n",
              "        vertical-align: middle;\n",
              "    }\n",
              "\n",
              "    .dataframe tbody tr th {\n",
              "        vertical-align: top;\n",
              "    }\n",
              "\n",
              "    .dataframe thead th {\n",
              "        text-align: right;\n",
              "    }\n",
              "</style>\n",
              "<table border=\"1\" class=\"dataframe\">\n",
              "  <thead>\n",
              "    <tr style=\"text-align: right;\">\n",
              "      <th></th>\n",
              "      <th>Formatted Date</th>\n",
              "      <th>Summary</th>\n",
              "      <th>Precip Type</th>\n",
              "      <th>Temperature (C)</th>\n",
              "      <th>Apparent Temperature (C)</th>\n",
              "      <th>Humidity</th>\n",
              "      <th>Wind Speed (km/h)</th>\n",
              "      <th>Wind Bearing (degrees)</th>\n",
              "      <th>Visibility (km)</th>\n",
              "      <th>Loud Cover</th>\n",
              "      <th>Pressure (millibars)</th>\n",
              "      <th>Daily Summary</th>\n",
              "    </tr>\n",
              "  </thead>\n",
              "  <tbody>\n",
              "    <tr>\n",
              "      <th>0</th>\n",
              "      <td>2006-04-01 00:00:00.000 +0200</td>\n",
              "      <td>Partly Cloudy</td>\n",
              "      <td>rain</td>\n",
              "      <td>9.472222</td>\n",
              "      <td>7.388889</td>\n",
              "      <td>0.89</td>\n",
              "      <td>14.1197</td>\n",
              "      <td>251.0</td>\n",
              "      <td>15.8263</td>\n",
              "      <td>0.0</td>\n",
              "      <td>1015.13</td>\n",
              "      <td>Partly cloudy throughout the day.</td>\n",
              "    </tr>\n",
              "    <tr>\n",
              "      <th>1</th>\n",
              "      <td>2006-04-01 01:00:00.000 +0200</td>\n",
              "      <td>Partly Cloudy</td>\n",
              "      <td>rain</td>\n",
              "      <td>9.355556</td>\n",
              "      <td>7.227778</td>\n",
              "      <td>0.86</td>\n",
              "      <td>14.2646</td>\n",
              "      <td>259.0</td>\n",
              "      <td>15.8263</td>\n",
              "      <td>0.0</td>\n",
              "      <td>1015.63</td>\n",
              "      <td>Partly cloudy throughout the day.</td>\n",
              "    </tr>\n",
              "    <tr>\n",
              "      <th>2</th>\n",
              "      <td>2006-04-01 02:00:00.000 +0200</td>\n",
              "      <td>Mostly Cloudy</td>\n",
              "      <td>rain</td>\n",
              "      <td>9.377778</td>\n",
              "      <td>9.377778</td>\n",
              "      <td>0.89</td>\n",
              "      <td>3.9284</td>\n",
              "      <td>204.0</td>\n",
              "      <td>14.9569</td>\n",
              "      <td>0.0</td>\n",
              "      <td>1015.94</td>\n",
              "      <td>Partly cloudy throughout the day.</td>\n",
              "    </tr>\n",
              "    <tr>\n",
              "      <th>3</th>\n",
              "      <td>2006-04-01 03:00:00.000 +0200</td>\n",
              "      <td>Partly Cloudy</td>\n",
              "      <td>rain</td>\n",
              "      <td>8.288889</td>\n",
              "      <td>5.944444</td>\n",
              "      <td>0.83</td>\n",
              "      <td>14.1036</td>\n",
              "      <td>269.0</td>\n",
              "      <td>15.8263</td>\n",
              "      <td>0.0</td>\n",
              "      <td>1016.41</td>\n",
              "      <td>Partly cloudy throughout the day.</td>\n",
              "    </tr>\n",
              "    <tr>\n",
              "      <th>4</th>\n",
              "      <td>2006-04-01 04:00:00.000 +0200</td>\n",
              "      <td>Mostly Cloudy</td>\n",
              "      <td>rain</td>\n",
              "      <td>8.755556</td>\n",
              "      <td>6.977778</td>\n",
              "      <td>0.83</td>\n",
              "      <td>11.0446</td>\n",
              "      <td>259.0</td>\n",
              "      <td>15.8263</td>\n",
              "      <td>0.0</td>\n",
              "      <td>1016.51</td>\n",
              "      <td>Partly cloudy throughout the day.</td>\n",
              "    </tr>\n",
              "  </tbody>\n",
              "</table>\n",
              "</div>\n",
              "    <div class=\"colab-df-buttons\">\n",
              "\n",
              "  <div class=\"colab-df-container\">\n",
              "    <button class=\"colab-df-convert\" onclick=\"convertToInteractive('df-07857456-4443-4da8-b989-89ee12b68134')\"\n",
              "            title=\"Convert this dataframe to an interactive table.\"\n",
              "            style=\"display:none;\">\n",
              "\n",
              "  <svg xmlns=\"http://www.w3.org/2000/svg\" height=\"24px\" viewBox=\"0 -960 960 960\">\n",
              "    <path d=\"M120-120v-720h720v720H120Zm60-500h600v-160H180v160Zm220 220h160v-160H400v160Zm0 220h160v-160H400v160ZM180-400h160v-160H180v160Zm440 0h160v-160H620v160ZM180-180h160v-160H180v160Zm440 0h160v-160H620v160Z\"/>\n",
              "  </svg>\n",
              "    </button>\n",
              "\n",
              "  <style>\n",
              "    .colab-df-container {\n",
              "      display:flex;\n",
              "      gap: 12px;\n",
              "    }\n",
              "\n",
              "    .colab-df-convert {\n",
              "      background-color: #E8F0FE;\n",
              "      border: none;\n",
              "      border-radius: 50%;\n",
              "      cursor: pointer;\n",
              "      display: none;\n",
              "      fill: #1967D2;\n",
              "      height: 32px;\n",
              "      padding: 0 0 0 0;\n",
              "      width: 32px;\n",
              "    }\n",
              "\n",
              "    .colab-df-convert:hover {\n",
              "      background-color: #E2EBFA;\n",
              "      box-shadow: 0px 1px 2px rgba(60, 64, 67, 0.3), 0px 1px 3px 1px rgba(60, 64, 67, 0.15);\n",
              "      fill: #174EA6;\n",
              "    }\n",
              "\n",
              "    .colab-df-buttons div {\n",
              "      margin-bottom: 4px;\n",
              "    }\n",
              "\n",
              "    [theme=dark] .colab-df-convert {\n",
              "      background-color: #3B4455;\n",
              "      fill: #D2E3FC;\n",
              "    }\n",
              "\n",
              "    [theme=dark] .colab-df-convert:hover {\n",
              "      background-color: #434B5C;\n",
              "      box-shadow: 0px 1px 3px 1px rgba(0, 0, 0, 0.15);\n",
              "      filter: drop-shadow(0px 1px 2px rgba(0, 0, 0, 0.3));\n",
              "      fill: #FFFFFF;\n",
              "    }\n",
              "  </style>\n",
              "\n",
              "    <script>\n",
              "      const buttonEl =\n",
              "        document.querySelector('#df-07857456-4443-4da8-b989-89ee12b68134 button.colab-df-convert');\n",
              "      buttonEl.style.display =\n",
              "        google.colab.kernel.accessAllowed ? 'block' : 'none';\n",
              "\n",
              "      async function convertToInteractive(key) {\n",
              "        const element = document.querySelector('#df-07857456-4443-4da8-b989-89ee12b68134');\n",
              "        const dataTable =\n",
              "          await google.colab.kernel.invokeFunction('convertToInteractive',\n",
              "                                                    [key], {});\n",
              "        if (!dataTable) return;\n",
              "\n",
              "        const docLinkHtml = 'Like what you see? Visit the ' +\n",
              "          '<a target=\"_blank\" href=https://colab.research.google.com/notebooks/data_table.ipynb>data table notebook</a>'\n",
              "          + ' to learn more about interactive tables.';\n",
              "        element.innerHTML = '';\n",
              "        dataTable['output_type'] = 'display_data';\n",
              "        await google.colab.output.renderOutput(dataTable, element);\n",
              "        const docLink = document.createElement('div');\n",
              "        docLink.innerHTML = docLinkHtml;\n",
              "        element.appendChild(docLink);\n",
              "      }\n",
              "    </script>\n",
              "  </div>\n",
              "\n",
              "\n",
              "<div id=\"df-b14c217b-f8cc-4fd2-9628-d15e42106f77\">\n",
              "  <button class=\"colab-df-quickchart\" onclick=\"quickchart('df-b14c217b-f8cc-4fd2-9628-d15e42106f77')\"\n",
              "            title=\"Suggest charts\"\n",
              "            style=\"display:none;\">\n",
              "\n",
              "<svg xmlns=\"http://www.w3.org/2000/svg\" height=\"24px\"viewBox=\"0 0 24 24\"\n",
              "     width=\"24px\">\n",
              "    <g>\n",
              "        <path d=\"M19 3H5c-1.1 0-2 .9-2 2v14c0 1.1.9 2 2 2h14c1.1 0 2-.9 2-2V5c0-1.1-.9-2-2-2zM9 17H7v-7h2v7zm4 0h-2V7h2v10zm4 0h-2v-4h2v4z\"/>\n",
              "    </g>\n",
              "</svg>\n",
              "  </button>\n",
              "\n",
              "<style>\n",
              "  .colab-df-quickchart {\n",
              "      --bg-color: #E8F0FE;\n",
              "      --fill-color: #1967D2;\n",
              "      --hover-bg-color: #E2EBFA;\n",
              "      --hover-fill-color: #174EA6;\n",
              "      --disabled-fill-color: #AAA;\n",
              "      --disabled-bg-color: #DDD;\n",
              "  }\n",
              "\n",
              "  [theme=dark] .colab-df-quickchart {\n",
              "      --bg-color: #3B4455;\n",
              "      --fill-color: #D2E3FC;\n",
              "      --hover-bg-color: #434B5C;\n",
              "      --hover-fill-color: #FFFFFF;\n",
              "      --disabled-bg-color: #3B4455;\n",
              "      --disabled-fill-color: #666;\n",
              "  }\n",
              "\n",
              "  .colab-df-quickchart {\n",
              "    background-color: var(--bg-color);\n",
              "    border: none;\n",
              "    border-radius: 50%;\n",
              "    cursor: pointer;\n",
              "    display: none;\n",
              "    fill: var(--fill-color);\n",
              "    height: 32px;\n",
              "    padding: 0;\n",
              "    width: 32px;\n",
              "  }\n",
              "\n",
              "  .colab-df-quickchart:hover {\n",
              "    background-color: var(--hover-bg-color);\n",
              "    box-shadow: 0 1px 2px rgba(60, 64, 67, 0.3), 0 1px 3px 1px rgba(60, 64, 67, 0.15);\n",
              "    fill: var(--button-hover-fill-color);\n",
              "  }\n",
              "\n",
              "  .colab-df-quickchart-complete:disabled,\n",
              "  .colab-df-quickchart-complete:disabled:hover {\n",
              "    background-color: var(--disabled-bg-color);\n",
              "    fill: var(--disabled-fill-color);\n",
              "    box-shadow: none;\n",
              "  }\n",
              "\n",
              "  .colab-df-spinner {\n",
              "    border: 2px solid var(--fill-color);\n",
              "    border-color: transparent;\n",
              "    border-bottom-color: var(--fill-color);\n",
              "    animation:\n",
              "      spin 1s steps(1) infinite;\n",
              "  }\n",
              "\n",
              "  @keyframes spin {\n",
              "    0% {\n",
              "      border-color: transparent;\n",
              "      border-bottom-color: var(--fill-color);\n",
              "      border-left-color: var(--fill-color);\n",
              "    }\n",
              "    20% {\n",
              "      border-color: transparent;\n",
              "      border-left-color: var(--fill-color);\n",
              "      border-top-color: var(--fill-color);\n",
              "    }\n",
              "    30% {\n",
              "      border-color: transparent;\n",
              "      border-left-color: var(--fill-color);\n",
              "      border-top-color: var(--fill-color);\n",
              "      border-right-color: var(--fill-color);\n",
              "    }\n",
              "    40% {\n",
              "      border-color: transparent;\n",
              "      border-right-color: var(--fill-color);\n",
              "      border-top-color: var(--fill-color);\n",
              "    }\n",
              "    60% {\n",
              "      border-color: transparent;\n",
              "      border-right-color: var(--fill-color);\n",
              "    }\n",
              "    80% {\n",
              "      border-color: transparent;\n",
              "      border-right-color: var(--fill-color);\n",
              "      border-bottom-color: var(--fill-color);\n",
              "    }\n",
              "    90% {\n",
              "      border-color: transparent;\n",
              "      border-bottom-color: var(--fill-color);\n",
              "    }\n",
              "  }\n",
              "</style>\n",
              "\n",
              "  <script>\n",
              "    async function quickchart(key) {\n",
              "      const quickchartButtonEl =\n",
              "        document.querySelector('#' + key + ' button');\n",
              "      quickchartButtonEl.disabled = true;  // To prevent multiple clicks.\n",
              "      quickchartButtonEl.classList.add('colab-df-spinner');\n",
              "      try {\n",
              "        const charts = await google.colab.kernel.invokeFunction(\n",
              "            'suggestCharts', [key], {});\n",
              "      } catch (error) {\n",
              "        console.error('Error during call to suggestCharts:', error);\n",
              "      }\n",
              "      quickchartButtonEl.classList.remove('colab-df-spinner');\n",
              "      quickchartButtonEl.classList.add('colab-df-quickchart-complete');\n",
              "    }\n",
              "    (() => {\n",
              "      let quickchartButtonEl =\n",
              "        document.querySelector('#df-b14c217b-f8cc-4fd2-9628-d15e42106f77 button');\n",
              "      quickchartButtonEl.style.display =\n",
              "        google.colab.kernel.accessAllowed ? 'block' : 'none';\n",
              "    })();\n",
              "  </script>\n",
              "</div>\n",
              "\n",
              "    </div>\n",
              "  </div>\n"
            ],
            "application/vnd.google.colaboratory.intrinsic+json": {
              "type": "dataframe",
              "variable_name": "df",
              "summary": "{\n  \"name\": \"df\",\n  \"rows\": 96453,\n  \"fields\": [\n    {\n      \"column\": \"Formatted Date\",\n      \"properties\": {\n        \"dtype\": \"object\",\n        \"num_unique_values\": 96429,\n        \"samples\": [\n          \"2008-10-17 17:00:00.000 +0200\",\n          \"2014-11-02 03:00:00.000 +0100\",\n          \"2008-06-18 01:00:00.000 +0200\"\n        ],\n        \"semantic_type\": \"\",\n        \"description\": \"\"\n      }\n    },\n    {\n      \"column\": \"Summary\",\n      \"properties\": {\n        \"dtype\": \"category\",\n        \"num_unique_values\": 27,\n        \"samples\": [\n          \"Humid and Mostly Cloudy\",\n          \"Windy and Partly Cloudy\",\n          \"Humid and Partly Cloudy\"\n        ],\n        \"semantic_type\": \"\",\n        \"description\": \"\"\n      }\n    },\n    {\n      \"column\": \"Precip Type\",\n      \"properties\": {\n        \"dtype\": \"category\",\n        \"num_unique_values\": 2,\n        \"samples\": [\n          \"snow\",\n          \"rain\"\n        ],\n        \"semantic_type\": \"\",\n        \"description\": \"\"\n      }\n    },\n    {\n      \"column\": \"Temperature (C)\",\n      \"properties\": {\n        \"dtype\": \"number\",\n        \"std\": 9.551546320656923,\n        \"min\": -21.822222222222223,\n        \"max\": 39.90555555555555,\n        \"num_unique_values\": 7574,\n        \"samples\": [\n          34.8111111111111,\n          14.955555555555556\n        ],\n        \"semantic_type\": \"\",\n        \"description\": \"\"\n      }\n    },\n    {\n      \"column\": \"Apparent Temperature (C)\",\n      \"properties\": {\n        \"dtype\": \"number\",\n        \"std\": 10.696847392119263,\n        \"min\": -27.716666666666665,\n        \"max\": 39.34444444444444,\n        \"num_unique_values\": 8984,\n        \"samples\": [\n          32.01111111111111,\n          3.1611111111111097\n        ],\n        \"semantic_type\": \"\",\n        \"description\": \"\"\n      }\n    },\n    {\n      \"column\": \"Humidity\",\n      \"properties\": {\n        \"dtype\": \"number\",\n        \"std\": 0.19547273906722662,\n        \"min\": 0.0,\n        \"max\": 1.0,\n        \"num_unique_values\": 90,\n        \"samples\": [\n          0.81,\n          0.8\n        ],\n        \"semantic_type\": \"\",\n        \"description\": \"\"\n      }\n    },\n    {\n      \"column\": \"Wind Speed (km/h)\",\n      \"properties\": {\n        \"dtype\": \"number\",\n        \"std\": 6.9135710125921515,\n        \"min\": 0.0,\n        \"max\": 63.8526,\n        \"num_unique_values\": 2484,\n        \"samples\": [\n          23.3611,\n          33.1016\n        ],\n        \"semantic_type\": \"\",\n        \"description\": \"\"\n      }\n    },\n    {\n      \"column\": \"Wind Bearing (degrees)\",\n      \"properties\": {\n        \"dtype\": \"number\",\n        \"std\": 107.38342838070538,\n        \"min\": 0.0,\n        \"max\": 359.0,\n        \"num_unique_values\": 360,\n        \"samples\": [\n          128.0,\n          15.0\n        ],\n        \"semantic_type\": \"\",\n        \"description\": \"\"\n      }\n    },\n    {\n      \"column\": \"Visibility (km)\",\n      \"properties\": {\n        \"dtype\": \"number\",\n        \"std\": 4.192123191422925,\n        \"min\": 0.0,\n        \"max\": 16.1,\n        \"num_unique_values\": 949,\n        \"samples\": [\n          4.395300000000001,\n          6.6332\n        ],\n        \"semantic_type\": \"\",\n        \"description\": \"\"\n      }\n    },\n    {\n      \"column\": \"Loud Cover\",\n      \"properties\": {\n        \"dtype\": \"number\",\n        \"std\": 0.0,\n        \"min\": 0.0,\n        \"max\": 0.0,\n        \"num_unique_values\": 1,\n        \"samples\": [\n          0.0\n        ],\n        \"semantic_type\": \"\",\n        \"description\": \"\"\n      }\n    },\n    {\n      \"column\": \"Pressure (millibars)\",\n      \"properties\": {\n        \"dtype\": \"number\",\n        \"std\": 116.96990568258147,\n        \"min\": 0.0,\n        \"max\": 1046.38,\n        \"num_unique_values\": 4979,\n        \"samples\": [\n          987.38\n        ],\n        \"semantic_type\": \"\",\n        \"description\": \"\"\n      }\n    },\n    {\n      \"column\": \"Daily Summary\",\n      \"properties\": {\n        \"dtype\": \"category\",\n        \"num_unique_values\": 214,\n        \"samples\": [\n          \"Partly cloudy until evening.\"\n        ],\n        \"semantic_type\": \"\",\n        \"description\": \"\"\n      }\n    }\n  ]\n}"
            }
          },
          "metadata": {},
          "execution_count": 43
        }
      ]
    },
    {
      "cell_type": "markdown",
      "source": [
        "We'll check for missing values, decide how to handle them, and ensure\n",
        "the date/time column is in datetime format if we plan to use it.\n",
        "For our sequence modeling, we mainly need the numerical columns\n",
        "(Temperature, Humidity, etc.)."
      ],
      "metadata": {
        "id": "W4930MPv3AUL"
      }
    },
    {
      "cell_type": "code",
      "source": [
        "# Check for missing values\n",
        "print(\"Missing values in each column:\")\n",
        "print(df.isnull().sum())\n",
        "\n",
        "df.dropna(inplace=True)\n",
        "df.reset_index(drop=True, inplace=True)\n",
        "\n",
        "df.head()"
      ],
      "metadata": {
        "colab": {
          "base_uri": "https://localhost:8080/",
          "height": 553
        },
        "id": "dfRU5Q6O3DUZ",
        "outputId": "4914cc68-02ad-4505-d590-26a682519c21"
      },
      "execution_count": 9,
      "outputs": [
        {
          "output_type": "stream",
          "name": "stdout",
          "text": [
            "Missing values in each column:\n",
            "Formatted Date              0\n",
            "Summary                     0\n",
            "Precip Type                 0\n",
            "Temperature (C)             0\n",
            "Apparent Temperature (C)    0\n",
            "Humidity                    0\n",
            "Wind Speed (km/h)           0\n",
            "Wind Bearing (degrees)      0\n",
            "Visibility (km)             0\n",
            "Loud Cover                  0\n",
            "Pressure (millibars)        0\n",
            "Daily Summary               0\n",
            "dtype: int64\n"
          ]
        },
        {
          "output_type": "execute_result",
          "data": {
            "text/plain": [
              "              Formatted Date        Summary Precip Type  Temperature (C)  \\\n",
              "0  2006-04-01 00:00:00+02:00  Partly Cloudy        rain         9.472222   \n",
              "1  2006-04-01 01:00:00+02:00  Partly Cloudy        rain         9.355556   \n",
              "2  2006-04-01 02:00:00+02:00  Mostly Cloudy        rain         9.377778   \n",
              "3  2006-04-01 03:00:00+02:00  Partly Cloudy        rain         8.288889   \n",
              "4  2006-04-01 04:00:00+02:00  Mostly Cloudy        rain         8.755556   \n",
              "\n",
              "   Apparent Temperature (C)  Humidity  Wind Speed (km/h)  \\\n",
              "0                  7.388889      0.89            14.1197   \n",
              "1                  7.227778      0.86            14.2646   \n",
              "2                  9.377778      0.89             3.9284   \n",
              "3                  5.944444      0.83            14.1036   \n",
              "4                  6.977778      0.83            11.0446   \n",
              "\n",
              "   Wind Bearing (degrees)  Visibility (km)  Loud Cover  Pressure (millibars)  \\\n",
              "0                   251.0          15.8263         0.0               1015.13   \n",
              "1                   259.0          15.8263         0.0               1015.63   \n",
              "2                   204.0          14.9569         0.0               1015.94   \n",
              "3                   269.0          15.8263         0.0               1016.41   \n",
              "4                   259.0          15.8263         0.0               1016.51   \n",
              "\n",
              "                       Daily Summary  \n",
              "0  Partly cloudy throughout the day.  \n",
              "1  Partly cloudy throughout the day.  \n",
              "2  Partly cloudy throughout the day.  \n",
              "3  Partly cloudy throughout the day.  \n",
              "4  Partly cloudy throughout the day.  "
            ],
            "text/html": [
              "\n",
              "  <div id=\"df-600ed8c6-ba3e-413f-8cdc-0d6cec653b20\" class=\"colab-df-container\">\n",
              "    <div>\n",
              "<style scoped>\n",
              "    .dataframe tbody tr th:only-of-type {\n",
              "        vertical-align: middle;\n",
              "    }\n",
              "\n",
              "    .dataframe tbody tr th {\n",
              "        vertical-align: top;\n",
              "    }\n",
              "\n",
              "    .dataframe thead th {\n",
              "        text-align: right;\n",
              "    }\n",
              "</style>\n",
              "<table border=\"1\" class=\"dataframe\">\n",
              "  <thead>\n",
              "    <tr style=\"text-align: right;\">\n",
              "      <th></th>\n",
              "      <th>Formatted Date</th>\n",
              "      <th>Summary</th>\n",
              "      <th>Precip Type</th>\n",
              "      <th>Temperature (C)</th>\n",
              "      <th>Apparent Temperature (C)</th>\n",
              "      <th>Humidity</th>\n",
              "      <th>Wind Speed (km/h)</th>\n",
              "      <th>Wind Bearing (degrees)</th>\n",
              "      <th>Visibility (km)</th>\n",
              "      <th>Loud Cover</th>\n",
              "      <th>Pressure (millibars)</th>\n",
              "      <th>Daily Summary</th>\n",
              "    </tr>\n",
              "  </thead>\n",
              "  <tbody>\n",
              "    <tr>\n",
              "      <th>0</th>\n",
              "      <td>2006-04-01 00:00:00+02:00</td>\n",
              "      <td>Partly Cloudy</td>\n",
              "      <td>rain</td>\n",
              "      <td>9.472222</td>\n",
              "      <td>7.388889</td>\n",
              "      <td>0.89</td>\n",
              "      <td>14.1197</td>\n",
              "      <td>251.0</td>\n",
              "      <td>15.8263</td>\n",
              "      <td>0.0</td>\n",
              "      <td>1015.13</td>\n",
              "      <td>Partly cloudy throughout the day.</td>\n",
              "    </tr>\n",
              "    <tr>\n",
              "      <th>1</th>\n",
              "      <td>2006-04-01 01:00:00+02:00</td>\n",
              "      <td>Partly Cloudy</td>\n",
              "      <td>rain</td>\n",
              "      <td>9.355556</td>\n",
              "      <td>7.227778</td>\n",
              "      <td>0.86</td>\n",
              "      <td>14.2646</td>\n",
              "      <td>259.0</td>\n",
              "      <td>15.8263</td>\n",
              "      <td>0.0</td>\n",
              "      <td>1015.63</td>\n",
              "      <td>Partly cloudy throughout the day.</td>\n",
              "    </tr>\n",
              "    <tr>\n",
              "      <th>2</th>\n",
              "      <td>2006-04-01 02:00:00+02:00</td>\n",
              "      <td>Mostly Cloudy</td>\n",
              "      <td>rain</td>\n",
              "      <td>9.377778</td>\n",
              "      <td>9.377778</td>\n",
              "      <td>0.89</td>\n",
              "      <td>3.9284</td>\n",
              "      <td>204.0</td>\n",
              "      <td>14.9569</td>\n",
              "      <td>0.0</td>\n",
              "      <td>1015.94</td>\n",
              "      <td>Partly cloudy throughout the day.</td>\n",
              "    </tr>\n",
              "    <tr>\n",
              "      <th>3</th>\n",
              "      <td>2006-04-01 03:00:00+02:00</td>\n",
              "      <td>Partly Cloudy</td>\n",
              "      <td>rain</td>\n",
              "      <td>8.288889</td>\n",
              "      <td>5.944444</td>\n",
              "      <td>0.83</td>\n",
              "      <td>14.1036</td>\n",
              "      <td>269.0</td>\n",
              "      <td>15.8263</td>\n",
              "      <td>0.0</td>\n",
              "      <td>1016.41</td>\n",
              "      <td>Partly cloudy throughout the day.</td>\n",
              "    </tr>\n",
              "    <tr>\n",
              "      <th>4</th>\n",
              "      <td>2006-04-01 04:00:00+02:00</td>\n",
              "      <td>Mostly Cloudy</td>\n",
              "      <td>rain</td>\n",
              "      <td>8.755556</td>\n",
              "      <td>6.977778</td>\n",
              "      <td>0.83</td>\n",
              "      <td>11.0446</td>\n",
              "      <td>259.0</td>\n",
              "      <td>15.8263</td>\n",
              "      <td>0.0</td>\n",
              "      <td>1016.51</td>\n",
              "      <td>Partly cloudy throughout the day.</td>\n",
              "    </tr>\n",
              "  </tbody>\n",
              "</table>\n",
              "</div>\n",
              "    <div class=\"colab-df-buttons\">\n",
              "\n",
              "  <div class=\"colab-df-container\">\n",
              "    <button class=\"colab-df-convert\" onclick=\"convertToInteractive('df-600ed8c6-ba3e-413f-8cdc-0d6cec653b20')\"\n",
              "            title=\"Convert this dataframe to an interactive table.\"\n",
              "            style=\"display:none;\">\n",
              "\n",
              "  <svg xmlns=\"http://www.w3.org/2000/svg\" height=\"24px\" viewBox=\"0 -960 960 960\">\n",
              "    <path d=\"M120-120v-720h720v720H120Zm60-500h600v-160H180v160Zm220 220h160v-160H400v160Zm0 220h160v-160H400v160ZM180-400h160v-160H180v160Zm440 0h160v-160H620v160ZM180-180h160v-160H180v160Zm440 0h160v-160H620v160Z\"/>\n",
              "  </svg>\n",
              "    </button>\n",
              "\n",
              "  <style>\n",
              "    .colab-df-container {\n",
              "      display:flex;\n",
              "      gap: 12px;\n",
              "    }\n",
              "\n",
              "    .colab-df-convert {\n",
              "      background-color: #E8F0FE;\n",
              "      border: none;\n",
              "      border-radius: 50%;\n",
              "      cursor: pointer;\n",
              "      display: none;\n",
              "      fill: #1967D2;\n",
              "      height: 32px;\n",
              "      padding: 0 0 0 0;\n",
              "      width: 32px;\n",
              "    }\n",
              "\n",
              "    .colab-df-convert:hover {\n",
              "      background-color: #E2EBFA;\n",
              "      box-shadow: 0px 1px 2px rgba(60, 64, 67, 0.3), 0px 1px 3px 1px rgba(60, 64, 67, 0.15);\n",
              "      fill: #174EA6;\n",
              "    }\n",
              "\n",
              "    .colab-df-buttons div {\n",
              "      margin-bottom: 4px;\n",
              "    }\n",
              "\n",
              "    [theme=dark] .colab-df-convert {\n",
              "      background-color: #3B4455;\n",
              "      fill: #D2E3FC;\n",
              "    }\n",
              "\n",
              "    [theme=dark] .colab-df-convert:hover {\n",
              "      background-color: #434B5C;\n",
              "      box-shadow: 0px 1px 3px 1px rgba(0, 0, 0, 0.15);\n",
              "      filter: drop-shadow(0px 1px 2px rgba(0, 0, 0, 0.3));\n",
              "      fill: #FFFFFF;\n",
              "    }\n",
              "  </style>\n",
              "\n",
              "    <script>\n",
              "      const buttonEl =\n",
              "        document.querySelector('#df-600ed8c6-ba3e-413f-8cdc-0d6cec653b20 button.colab-df-convert');\n",
              "      buttonEl.style.display =\n",
              "        google.colab.kernel.accessAllowed ? 'block' : 'none';\n",
              "\n",
              "      async function convertToInteractive(key) {\n",
              "        const element = document.querySelector('#df-600ed8c6-ba3e-413f-8cdc-0d6cec653b20');\n",
              "        const dataTable =\n",
              "          await google.colab.kernel.invokeFunction('convertToInteractive',\n",
              "                                                    [key], {});\n",
              "        if (!dataTable) return;\n",
              "\n",
              "        const docLinkHtml = 'Like what you see? Visit the ' +\n",
              "          '<a target=\"_blank\" href=https://colab.research.google.com/notebooks/data_table.ipynb>data table notebook</a>'\n",
              "          + ' to learn more about interactive tables.';\n",
              "        element.innerHTML = '';\n",
              "        dataTable['output_type'] = 'display_data';\n",
              "        await google.colab.output.renderOutput(dataTable, element);\n",
              "        const docLink = document.createElement('div');\n",
              "        docLink.innerHTML = docLinkHtml;\n",
              "        element.appendChild(docLink);\n",
              "      }\n",
              "    </script>\n",
              "  </div>\n",
              "\n",
              "\n",
              "<div id=\"df-40f5e418-9861-43ab-9924-55be62d03af2\">\n",
              "  <button class=\"colab-df-quickchart\" onclick=\"quickchart('df-40f5e418-9861-43ab-9924-55be62d03af2')\"\n",
              "            title=\"Suggest charts\"\n",
              "            style=\"display:none;\">\n",
              "\n",
              "<svg xmlns=\"http://www.w3.org/2000/svg\" height=\"24px\"viewBox=\"0 0 24 24\"\n",
              "     width=\"24px\">\n",
              "    <g>\n",
              "        <path d=\"M19 3H5c-1.1 0-2 .9-2 2v14c0 1.1.9 2 2 2h14c1.1 0 2-.9 2-2V5c0-1.1-.9-2-2-2zM9 17H7v-7h2v7zm4 0h-2V7h2v10zm4 0h-2v-4h2v4z\"/>\n",
              "    </g>\n",
              "</svg>\n",
              "  </button>\n",
              "\n",
              "<style>\n",
              "  .colab-df-quickchart {\n",
              "      --bg-color: #E8F0FE;\n",
              "      --fill-color: #1967D2;\n",
              "      --hover-bg-color: #E2EBFA;\n",
              "      --hover-fill-color: #174EA6;\n",
              "      --disabled-fill-color: #AAA;\n",
              "      --disabled-bg-color: #DDD;\n",
              "  }\n",
              "\n",
              "  [theme=dark] .colab-df-quickchart {\n",
              "      --bg-color: #3B4455;\n",
              "      --fill-color: #D2E3FC;\n",
              "      --hover-bg-color: #434B5C;\n",
              "      --hover-fill-color: #FFFFFF;\n",
              "      --disabled-bg-color: #3B4455;\n",
              "      --disabled-fill-color: #666;\n",
              "  }\n",
              "\n",
              "  .colab-df-quickchart {\n",
              "    background-color: var(--bg-color);\n",
              "    border: none;\n",
              "    border-radius: 50%;\n",
              "    cursor: pointer;\n",
              "    display: none;\n",
              "    fill: var(--fill-color);\n",
              "    height: 32px;\n",
              "    padding: 0;\n",
              "    width: 32px;\n",
              "  }\n",
              "\n",
              "  .colab-df-quickchart:hover {\n",
              "    background-color: var(--hover-bg-color);\n",
              "    box-shadow: 0 1px 2px rgba(60, 64, 67, 0.3), 0 1px 3px 1px rgba(60, 64, 67, 0.15);\n",
              "    fill: var(--button-hover-fill-color);\n",
              "  }\n",
              "\n",
              "  .colab-df-quickchart-complete:disabled,\n",
              "  .colab-df-quickchart-complete:disabled:hover {\n",
              "    background-color: var(--disabled-bg-color);\n",
              "    fill: var(--disabled-fill-color);\n",
              "    box-shadow: none;\n",
              "  }\n",
              "\n",
              "  .colab-df-spinner {\n",
              "    border: 2px solid var(--fill-color);\n",
              "    border-color: transparent;\n",
              "    border-bottom-color: var(--fill-color);\n",
              "    animation:\n",
              "      spin 1s steps(1) infinite;\n",
              "  }\n",
              "\n",
              "  @keyframes spin {\n",
              "    0% {\n",
              "      border-color: transparent;\n",
              "      border-bottom-color: var(--fill-color);\n",
              "      border-left-color: var(--fill-color);\n",
              "    }\n",
              "    20% {\n",
              "      border-color: transparent;\n",
              "      border-left-color: var(--fill-color);\n",
              "      border-top-color: var(--fill-color);\n",
              "    }\n",
              "    30% {\n",
              "      border-color: transparent;\n",
              "      border-left-color: var(--fill-color);\n",
              "      border-top-color: var(--fill-color);\n",
              "      border-right-color: var(--fill-color);\n",
              "    }\n",
              "    40% {\n",
              "      border-color: transparent;\n",
              "      border-right-color: var(--fill-color);\n",
              "      border-top-color: var(--fill-color);\n",
              "    }\n",
              "    60% {\n",
              "      border-color: transparent;\n",
              "      border-right-color: var(--fill-color);\n",
              "    }\n",
              "    80% {\n",
              "      border-color: transparent;\n",
              "      border-right-color: var(--fill-color);\n",
              "      border-bottom-color: var(--fill-color);\n",
              "    }\n",
              "    90% {\n",
              "      border-color: transparent;\n",
              "      border-bottom-color: var(--fill-color);\n",
              "    }\n",
              "  }\n",
              "</style>\n",
              "\n",
              "  <script>\n",
              "    async function quickchart(key) {\n",
              "      const quickchartButtonEl =\n",
              "        document.querySelector('#' + key + ' button');\n",
              "      quickchartButtonEl.disabled = true;  // To prevent multiple clicks.\n",
              "      quickchartButtonEl.classList.add('colab-df-spinner');\n",
              "      try {\n",
              "        const charts = await google.colab.kernel.invokeFunction(\n",
              "            'suggestCharts', [key], {});\n",
              "      } catch (error) {\n",
              "        console.error('Error during call to suggestCharts:', error);\n",
              "      }\n",
              "      quickchartButtonEl.classList.remove('colab-df-spinner');\n",
              "      quickchartButtonEl.classList.add('colab-df-quickchart-complete');\n",
              "    }\n",
              "    (() => {\n",
              "      let quickchartButtonEl =\n",
              "        document.querySelector('#df-40f5e418-9861-43ab-9924-55be62d03af2 button');\n",
              "      quickchartButtonEl.style.display =\n",
              "        google.colab.kernel.accessAllowed ? 'block' : 'none';\n",
              "    })();\n",
              "  </script>\n",
              "</div>\n",
              "\n",
              "    </div>\n",
              "  </div>\n"
            ],
            "application/vnd.google.colaboratory.intrinsic+json": {
              "type": "dataframe",
              "variable_name": "df",
              "summary": "{\n  \"name\": \"df\",\n  \"rows\": 95936,\n  \"fields\": [\n    {\n      \"column\": \"Formatted Date\",\n      \"properties\": {\n        \"dtype\": \"string\",\n        \"num_unique_values\": 95912,\n        \"samples\": [\n          \"2016-03-18 10:00:00+01:00\",\n          \"2016-09-11 06:00:00+02:00\",\n          \"2011-09-05 08:00:00+02:00\"\n        ],\n        \"semantic_type\": \"\",\n        \"description\": \"\"\n      }\n    },\n    {\n      \"column\": \"Summary\",\n      \"properties\": {\n        \"dtype\": \"category\",\n        \"num_unique_values\": 27,\n        \"samples\": [\n          \"Humid and Mostly Cloudy\",\n          \"Windy and Partly Cloudy\",\n          \"Humid and Partly Cloudy\"\n        ],\n        \"semantic_type\": \"\",\n        \"description\": \"\"\n      }\n    },\n    {\n      \"column\": \"Precip Type\",\n      \"properties\": {\n        \"dtype\": \"category\",\n        \"num_unique_values\": 2,\n        \"samples\": [\n          \"snow\",\n          \"rain\"\n        ],\n        \"semantic_type\": \"\",\n        \"description\": \"\"\n      }\n    },\n    {\n      \"column\": \"Temperature (C)\",\n      \"properties\": {\n        \"dtype\": \"number\",\n        \"std\": 9.570670641873114,\n        \"min\": -21.822222222222223,\n        \"max\": 39.90555555555555,\n        \"num_unique_values\": 7573,\n        \"samples\": [\n          14.794444444444444,\n          14.955555555555556\n        ],\n        \"semantic_type\": \"\",\n        \"description\": \"\"\n      }\n    },\n    {\n      \"column\": \"Apparent Temperature (C)\",\n      \"properties\": {\n        \"dtype\": \"number\",\n        \"std\": 10.71781163227882,\n        \"min\": -27.716666666666665,\n        \"max\": 39.34444444444444,\n        \"num_unique_values\": 8984,\n        \"samples\": [\n          32.01111111111111,\n          3.1611111111111097\n        ],\n        \"semantic_type\": \"\",\n        \"description\": \"\"\n      }\n    },\n    {\n      \"column\": \"Humidity\",\n      \"properties\": {\n        \"dtype\": \"number\",\n        \"std\": 0.19572411994206712,\n        \"min\": 0.0,\n        \"max\": 1.0,\n        \"num_unique_values\": 90,\n        \"samples\": [\n          0.81,\n          0.8\n        ],\n        \"semantic_type\": \"\",\n        \"description\": \"\"\n      }\n    },\n    {\n      \"column\": \"Wind Speed (km/h)\",\n      \"properties\": {\n        \"dtype\": \"number\",\n        \"std\": 6.9207274836908645,\n        \"min\": 0.0,\n        \"max\": 63.8526,\n        \"num_unique_values\": 2484,\n        \"samples\": [\n          23.3611,\n          33.1016\n        ],\n        \"semantic_type\": \"\",\n        \"description\": \"\"\n      }\n    },\n    {\n      \"column\": \"Wind Bearing (degrees)\",\n      \"properties\": {\n        \"dtype\": \"number\",\n        \"std\": 107.38535131900699,\n        \"min\": 0.0,\n        \"max\": 359.0,\n        \"num_unique_values\": 360,\n        \"samples\": [\n          128.0,\n          15.0\n        ],\n        \"semantic_type\": \"\",\n        \"description\": \"\"\n      }\n    },\n    {\n      \"column\": \"Visibility (km)\",\n      \"properties\": {\n        \"dtype\": \"number\",\n        \"std\": 4.173779512319898,\n        \"min\": 0.0,\n        \"max\": 16.1,\n        \"num_unique_values\": 949,\n        \"samples\": [\n          4.395300000000001,\n          6.6332\n        ],\n        \"semantic_type\": \"\",\n        \"description\": \"\"\n      }\n    },\n    {\n      \"column\": \"Loud Cover\",\n      \"properties\": {\n        \"dtype\": \"number\",\n        \"std\": 0.0,\n        \"min\": 0.0,\n        \"max\": 0.0,\n        \"num_unique_values\": 1,\n        \"samples\": [\n          0.0\n        ],\n        \"semantic_type\": \"\",\n        \"description\": \"\"\n      }\n    },\n    {\n      \"column\": \"Pressure (millibars)\",\n      \"properties\": {\n        \"dtype\": \"number\",\n        \"std\": 117.27697626185551,\n        \"min\": 0.0,\n        \"max\": 1046.38,\n        \"num_unique_values\": 4971,\n        \"samples\": [\n          1011.29\n        ],\n        \"semantic_type\": \"\",\n        \"description\": \"\"\n      }\n    },\n    {\n      \"column\": \"Daily Summary\",\n      \"properties\": {\n        \"dtype\": \"category\",\n        \"num_unique_values\": 214,\n        \"samples\": [\n          \"Partly cloudy until evening.\"\n        ],\n        \"semantic_type\": \"\",\n        \"description\": \"\"\n      }\n    }\n  ]\n}"
            }
          },
          "metadata": {},
          "execution_count": 9
        }
      ]
    },
    {
      "cell_type": "markdown",
      "source": [
        "We’ll select the columns we want to use as features and the column we plan to predict.\n",
        "For simplicity, let's choose:\n",
        "\n",
        "- Temperature (C), Humidity, and Pressure (millibars) as input features.\n",
        "- Temperature (C) as our target.\n",
        "\n",
        "We scale these features using MinMaxScaler, which typically helps RNNs\n",
        "train more efficiently."
      ],
      "metadata": {
        "id": "B2eaq0wn3gg7"
      }
    },
    {
      "cell_type": "code",
      "source": [
        "from sklearn.preprocessing import MinMaxScaler\n",
        "\n",
        "feature_cols = ['Temperature (C)', 'Humidity', 'Pressure (millibars)']\n",
        "target_col = 'Temperature (C)'\n",
        "\n",
        "scaler = MinMaxScaler(feature_range=(0, 1))\n",
        "df[feature_cols] = scaler.fit_transform(df[feature_cols])\n",
        "\n",
        "df.head()"
      ],
      "metadata": {
        "colab": {
          "base_uri": "https://localhost:8080/",
          "height": 310
        },
        "id": "6X5pygam3ilK",
        "outputId": "7e5c8250-d659-4bb4-fcb6-c18efa7950d8"
      },
      "execution_count": 10,
      "outputs": [
        {
          "output_type": "execute_result",
          "data": {
            "text/plain": [
              "              Formatted Date        Summary Precip Type  Temperature (C)  \\\n",
              "0  2006-04-01 00:00:00+02:00  Partly Cloudy        rain         0.506975   \n",
              "1  2006-04-01 01:00:00+02:00  Partly Cloudy        rain         0.505085   \n",
              "2  2006-04-01 02:00:00+02:00  Mostly Cloudy        rain         0.505445   \n",
              "3  2006-04-01 03:00:00+02:00  Partly Cloudy        rain         0.487805   \n",
              "4  2006-04-01 04:00:00+02:00  Mostly Cloudy        rain         0.495365   \n",
              "\n",
              "   Apparent Temperature (C)  Humidity  Wind Speed (km/h)  \\\n",
              "0                  7.388889      0.89            14.1197   \n",
              "1                  7.227778      0.86            14.2646   \n",
              "2                  9.377778      0.89             3.9284   \n",
              "3                  5.944444      0.83            14.1036   \n",
              "4                  6.977778      0.83            11.0446   \n",
              "\n",
              "   Wind Bearing (degrees)  Visibility (km)  Loud Cover  Pressure (millibars)  \\\n",
              "0                   251.0          15.8263         0.0              0.970135   \n",
              "1                   259.0          15.8263         0.0              0.970613   \n",
              "2                   204.0          14.9569         0.0              0.970909   \n",
              "3                   269.0          15.8263         0.0              0.971358   \n",
              "4                   259.0          15.8263         0.0              0.971454   \n",
              "\n",
              "                       Daily Summary  \n",
              "0  Partly cloudy throughout the day.  \n",
              "1  Partly cloudy throughout the day.  \n",
              "2  Partly cloudy throughout the day.  \n",
              "3  Partly cloudy throughout the day.  \n",
              "4  Partly cloudy throughout the day.  "
            ],
            "text/html": [
              "\n",
              "  <div id=\"df-ae6b17b1-fd15-4481-a21a-022b9c77d971\" class=\"colab-df-container\">\n",
              "    <div>\n",
              "<style scoped>\n",
              "    .dataframe tbody tr th:only-of-type {\n",
              "        vertical-align: middle;\n",
              "    }\n",
              "\n",
              "    .dataframe tbody tr th {\n",
              "        vertical-align: top;\n",
              "    }\n",
              "\n",
              "    .dataframe thead th {\n",
              "        text-align: right;\n",
              "    }\n",
              "</style>\n",
              "<table border=\"1\" class=\"dataframe\">\n",
              "  <thead>\n",
              "    <tr style=\"text-align: right;\">\n",
              "      <th></th>\n",
              "      <th>Formatted Date</th>\n",
              "      <th>Summary</th>\n",
              "      <th>Precip Type</th>\n",
              "      <th>Temperature (C)</th>\n",
              "      <th>Apparent Temperature (C)</th>\n",
              "      <th>Humidity</th>\n",
              "      <th>Wind Speed (km/h)</th>\n",
              "      <th>Wind Bearing (degrees)</th>\n",
              "      <th>Visibility (km)</th>\n",
              "      <th>Loud Cover</th>\n",
              "      <th>Pressure (millibars)</th>\n",
              "      <th>Daily Summary</th>\n",
              "    </tr>\n",
              "  </thead>\n",
              "  <tbody>\n",
              "    <tr>\n",
              "      <th>0</th>\n",
              "      <td>2006-04-01 00:00:00+02:00</td>\n",
              "      <td>Partly Cloudy</td>\n",
              "      <td>rain</td>\n",
              "      <td>0.506975</td>\n",
              "      <td>7.388889</td>\n",
              "      <td>0.89</td>\n",
              "      <td>14.1197</td>\n",
              "      <td>251.0</td>\n",
              "      <td>15.8263</td>\n",
              "      <td>0.0</td>\n",
              "      <td>0.970135</td>\n",
              "      <td>Partly cloudy throughout the day.</td>\n",
              "    </tr>\n",
              "    <tr>\n",
              "      <th>1</th>\n",
              "      <td>2006-04-01 01:00:00+02:00</td>\n",
              "      <td>Partly Cloudy</td>\n",
              "      <td>rain</td>\n",
              "      <td>0.505085</td>\n",
              "      <td>7.227778</td>\n",
              "      <td>0.86</td>\n",
              "      <td>14.2646</td>\n",
              "      <td>259.0</td>\n",
              "      <td>15.8263</td>\n",
              "      <td>0.0</td>\n",
              "      <td>0.970613</td>\n",
              "      <td>Partly cloudy throughout the day.</td>\n",
              "    </tr>\n",
              "    <tr>\n",
              "      <th>2</th>\n",
              "      <td>2006-04-01 02:00:00+02:00</td>\n",
              "      <td>Mostly Cloudy</td>\n",
              "      <td>rain</td>\n",
              "      <td>0.505445</td>\n",
              "      <td>9.377778</td>\n",
              "      <td>0.89</td>\n",
              "      <td>3.9284</td>\n",
              "      <td>204.0</td>\n",
              "      <td>14.9569</td>\n",
              "      <td>0.0</td>\n",
              "      <td>0.970909</td>\n",
              "      <td>Partly cloudy throughout the day.</td>\n",
              "    </tr>\n",
              "    <tr>\n",
              "      <th>3</th>\n",
              "      <td>2006-04-01 03:00:00+02:00</td>\n",
              "      <td>Partly Cloudy</td>\n",
              "      <td>rain</td>\n",
              "      <td>0.487805</td>\n",
              "      <td>5.944444</td>\n",
              "      <td>0.83</td>\n",
              "      <td>14.1036</td>\n",
              "      <td>269.0</td>\n",
              "      <td>15.8263</td>\n",
              "      <td>0.0</td>\n",
              "      <td>0.971358</td>\n",
              "      <td>Partly cloudy throughout the day.</td>\n",
              "    </tr>\n",
              "    <tr>\n",
              "      <th>4</th>\n",
              "      <td>2006-04-01 04:00:00+02:00</td>\n",
              "      <td>Mostly Cloudy</td>\n",
              "      <td>rain</td>\n",
              "      <td>0.495365</td>\n",
              "      <td>6.977778</td>\n",
              "      <td>0.83</td>\n",
              "      <td>11.0446</td>\n",
              "      <td>259.0</td>\n",
              "      <td>15.8263</td>\n",
              "      <td>0.0</td>\n",
              "      <td>0.971454</td>\n",
              "      <td>Partly cloudy throughout the day.</td>\n",
              "    </tr>\n",
              "  </tbody>\n",
              "</table>\n",
              "</div>\n",
              "    <div class=\"colab-df-buttons\">\n",
              "\n",
              "  <div class=\"colab-df-container\">\n",
              "    <button class=\"colab-df-convert\" onclick=\"convertToInteractive('df-ae6b17b1-fd15-4481-a21a-022b9c77d971')\"\n",
              "            title=\"Convert this dataframe to an interactive table.\"\n",
              "            style=\"display:none;\">\n",
              "\n",
              "  <svg xmlns=\"http://www.w3.org/2000/svg\" height=\"24px\" viewBox=\"0 -960 960 960\">\n",
              "    <path d=\"M120-120v-720h720v720H120Zm60-500h600v-160H180v160Zm220 220h160v-160H400v160Zm0 220h160v-160H400v160ZM180-400h160v-160H180v160Zm440 0h160v-160H620v160ZM180-180h160v-160H180v160Zm440 0h160v-160H620v160Z\"/>\n",
              "  </svg>\n",
              "    </button>\n",
              "\n",
              "  <style>\n",
              "    .colab-df-container {\n",
              "      display:flex;\n",
              "      gap: 12px;\n",
              "    }\n",
              "\n",
              "    .colab-df-convert {\n",
              "      background-color: #E8F0FE;\n",
              "      border: none;\n",
              "      border-radius: 50%;\n",
              "      cursor: pointer;\n",
              "      display: none;\n",
              "      fill: #1967D2;\n",
              "      height: 32px;\n",
              "      padding: 0 0 0 0;\n",
              "      width: 32px;\n",
              "    }\n",
              "\n",
              "    .colab-df-convert:hover {\n",
              "      background-color: #E2EBFA;\n",
              "      box-shadow: 0px 1px 2px rgba(60, 64, 67, 0.3), 0px 1px 3px 1px rgba(60, 64, 67, 0.15);\n",
              "      fill: #174EA6;\n",
              "    }\n",
              "\n",
              "    .colab-df-buttons div {\n",
              "      margin-bottom: 4px;\n",
              "    }\n",
              "\n",
              "    [theme=dark] .colab-df-convert {\n",
              "      background-color: #3B4455;\n",
              "      fill: #D2E3FC;\n",
              "    }\n",
              "\n",
              "    [theme=dark] .colab-df-convert:hover {\n",
              "      background-color: #434B5C;\n",
              "      box-shadow: 0px 1px 3px 1px rgba(0, 0, 0, 0.15);\n",
              "      filter: drop-shadow(0px 1px 2px rgba(0, 0, 0, 0.3));\n",
              "      fill: #FFFFFF;\n",
              "    }\n",
              "  </style>\n",
              "\n",
              "    <script>\n",
              "      const buttonEl =\n",
              "        document.querySelector('#df-ae6b17b1-fd15-4481-a21a-022b9c77d971 button.colab-df-convert');\n",
              "      buttonEl.style.display =\n",
              "        google.colab.kernel.accessAllowed ? 'block' : 'none';\n",
              "\n",
              "      async function convertToInteractive(key) {\n",
              "        const element = document.querySelector('#df-ae6b17b1-fd15-4481-a21a-022b9c77d971');\n",
              "        const dataTable =\n",
              "          await google.colab.kernel.invokeFunction('convertToInteractive',\n",
              "                                                    [key], {});\n",
              "        if (!dataTable) return;\n",
              "\n",
              "        const docLinkHtml = 'Like what you see? Visit the ' +\n",
              "          '<a target=\"_blank\" href=https://colab.research.google.com/notebooks/data_table.ipynb>data table notebook</a>'\n",
              "          + ' to learn more about interactive tables.';\n",
              "        element.innerHTML = '';\n",
              "        dataTable['output_type'] = 'display_data';\n",
              "        await google.colab.output.renderOutput(dataTable, element);\n",
              "        const docLink = document.createElement('div');\n",
              "        docLink.innerHTML = docLinkHtml;\n",
              "        element.appendChild(docLink);\n",
              "      }\n",
              "    </script>\n",
              "  </div>\n",
              "\n",
              "\n",
              "<div id=\"df-0223e69d-10b0-4dbf-95ca-1b6d703ee4c4\">\n",
              "  <button class=\"colab-df-quickchart\" onclick=\"quickchart('df-0223e69d-10b0-4dbf-95ca-1b6d703ee4c4')\"\n",
              "            title=\"Suggest charts\"\n",
              "            style=\"display:none;\">\n",
              "\n",
              "<svg xmlns=\"http://www.w3.org/2000/svg\" height=\"24px\"viewBox=\"0 0 24 24\"\n",
              "     width=\"24px\">\n",
              "    <g>\n",
              "        <path d=\"M19 3H5c-1.1 0-2 .9-2 2v14c0 1.1.9 2 2 2h14c1.1 0 2-.9 2-2V5c0-1.1-.9-2-2-2zM9 17H7v-7h2v7zm4 0h-2V7h2v10zm4 0h-2v-4h2v4z\"/>\n",
              "    </g>\n",
              "</svg>\n",
              "  </button>\n",
              "\n",
              "<style>\n",
              "  .colab-df-quickchart {\n",
              "      --bg-color: #E8F0FE;\n",
              "      --fill-color: #1967D2;\n",
              "      --hover-bg-color: #E2EBFA;\n",
              "      --hover-fill-color: #174EA6;\n",
              "      --disabled-fill-color: #AAA;\n",
              "      --disabled-bg-color: #DDD;\n",
              "  }\n",
              "\n",
              "  [theme=dark] .colab-df-quickchart {\n",
              "      --bg-color: #3B4455;\n",
              "      --fill-color: #D2E3FC;\n",
              "      --hover-bg-color: #434B5C;\n",
              "      --hover-fill-color: #FFFFFF;\n",
              "      --disabled-bg-color: #3B4455;\n",
              "      --disabled-fill-color: #666;\n",
              "  }\n",
              "\n",
              "  .colab-df-quickchart {\n",
              "    background-color: var(--bg-color);\n",
              "    border: none;\n",
              "    border-radius: 50%;\n",
              "    cursor: pointer;\n",
              "    display: none;\n",
              "    fill: var(--fill-color);\n",
              "    height: 32px;\n",
              "    padding: 0;\n",
              "    width: 32px;\n",
              "  }\n",
              "\n",
              "  .colab-df-quickchart:hover {\n",
              "    background-color: var(--hover-bg-color);\n",
              "    box-shadow: 0 1px 2px rgba(60, 64, 67, 0.3), 0 1px 3px 1px rgba(60, 64, 67, 0.15);\n",
              "    fill: var(--button-hover-fill-color);\n",
              "  }\n",
              "\n",
              "  .colab-df-quickchart-complete:disabled,\n",
              "  .colab-df-quickchart-complete:disabled:hover {\n",
              "    background-color: var(--disabled-bg-color);\n",
              "    fill: var(--disabled-fill-color);\n",
              "    box-shadow: none;\n",
              "  }\n",
              "\n",
              "  .colab-df-spinner {\n",
              "    border: 2px solid var(--fill-color);\n",
              "    border-color: transparent;\n",
              "    border-bottom-color: var(--fill-color);\n",
              "    animation:\n",
              "      spin 1s steps(1) infinite;\n",
              "  }\n",
              "\n",
              "  @keyframes spin {\n",
              "    0% {\n",
              "      border-color: transparent;\n",
              "      border-bottom-color: var(--fill-color);\n",
              "      border-left-color: var(--fill-color);\n",
              "    }\n",
              "    20% {\n",
              "      border-color: transparent;\n",
              "      border-left-color: var(--fill-color);\n",
              "      border-top-color: var(--fill-color);\n",
              "    }\n",
              "    30% {\n",
              "      border-color: transparent;\n",
              "      border-left-color: var(--fill-color);\n",
              "      border-top-color: var(--fill-color);\n",
              "      border-right-color: var(--fill-color);\n",
              "    }\n",
              "    40% {\n",
              "      border-color: transparent;\n",
              "      border-right-color: var(--fill-color);\n",
              "      border-top-color: var(--fill-color);\n",
              "    }\n",
              "    60% {\n",
              "      border-color: transparent;\n",
              "      border-right-color: var(--fill-color);\n",
              "    }\n",
              "    80% {\n",
              "      border-color: transparent;\n",
              "      border-right-color: var(--fill-color);\n",
              "      border-bottom-color: var(--fill-color);\n",
              "    }\n",
              "    90% {\n",
              "      border-color: transparent;\n",
              "      border-bottom-color: var(--fill-color);\n",
              "    }\n",
              "  }\n",
              "</style>\n",
              "\n",
              "  <script>\n",
              "    async function quickchart(key) {\n",
              "      const quickchartButtonEl =\n",
              "        document.querySelector('#' + key + ' button');\n",
              "      quickchartButtonEl.disabled = true;  // To prevent multiple clicks.\n",
              "      quickchartButtonEl.classList.add('colab-df-spinner');\n",
              "      try {\n",
              "        const charts = await google.colab.kernel.invokeFunction(\n",
              "            'suggestCharts', [key], {});\n",
              "      } catch (error) {\n",
              "        console.error('Error during call to suggestCharts:', error);\n",
              "      }\n",
              "      quickchartButtonEl.classList.remove('colab-df-spinner');\n",
              "      quickchartButtonEl.classList.add('colab-df-quickchart-complete');\n",
              "    }\n",
              "    (() => {\n",
              "      let quickchartButtonEl =\n",
              "        document.querySelector('#df-0223e69d-10b0-4dbf-95ca-1b6d703ee4c4 button');\n",
              "      quickchartButtonEl.style.display =\n",
              "        google.colab.kernel.accessAllowed ? 'block' : 'none';\n",
              "    })();\n",
              "  </script>\n",
              "</div>\n",
              "\n",
              "    </div>\n",
              "  </div>\n"
            ],
            "application/vnd.google.colaboratory.intrinsic+json": {
              "type": "dataframe",
              "variable_name": "df",
              "summary": "{\n  \"name\": \"df\",\n  \"rows\": 95936,\n  \"fields\": [\n    {\n      \"column\": \"Formatted Date\",\n      \"properties\": {\n        \"dtype\": \"string\",\n        \"num_unique_values\": 95912,\n        \"samples\": [\n          \"2016-03-18 10:00:00+01:00\",\n          \"2016-09-11 06:00:00+02:00\",\n          \"2011-09-05 08:00:00+02:00\"\n        ],\n        \"semantic_type\": \"\",\n        \"description\": \"\"\n      }\n    },\n    {\n      \"column\": \"Summary\",\n      \"properties\": {\n        \"dtype\": \"category\",\n        \"num_unique_values\": 27,\n        \"samples\": [\n          \"Humid and Mostly Cloudy\",\n          \"Windy and Partly Cloudy\",\n          \"Humid and Partly Cloudy\"\n        ],\n        \"semantic_type\": \"\",\n        \"description\": \"\"\n      }\n    },\n    {\n      \"column\": \"Precip Type\",\n      \"properties\": {\n        \"dtype\": \"category\",\n        \"num_unique_values\": 2,\n        \"samples\": [\n          \"snow\",\n          \"rain\"\n        ],\n        \"semantic_type\": \"\",\n        \"description\": \"\"\n      }\n    },\n    {\n      \"column\": \"Temperature (C)\",\n      \"properties\": {\n        \"dtype\": \"number\",\n        \"std\": 0.15504641486248924,\n        \"min\": 0.0,\n        \"max\": 1.0,\n        \"num_unique_values\": 7573,\n        \"samples\": [\n          0.5931959319593196,\n          0.5958059580595807\n        ],\n        \"semantic_type\": \"\",\n        \"description\": \"\"\n      }\n    },\n    {\n      \"column\": \"Apparent Temperature (C)\",\n      \"properties\": {\n        \"dtype\": \"number\",\n        \"std\": 10.71781163227882,\n        \"min\": -27.716666666666665,\n        \"max\": 39.34444444444444,\n        \"num_unique_values\": 8984,\n        \"samples\": [\n          32.01111111111111,\n          3.1611111111111097\n        ],\n        \"semantic_type\": \"\",\n        \"description\": \"\"\n      }\n    },\n    {\n      \"column\": \"Humidity\",\n      \"properties\": {\n        \"dtype\": \"number\",\n        \"std\": 0.19572411994206712,\n        \"min\": 0.0,\n        \"max\": 1.0,\n        \"num_unique_values\": 90,\n        \"samples\": [\n          0.81,\n          0.8\n        ],\n        \"semantic_type\": \"\",\n        \"description\": \"\"\n      }\n    },\n    {\n      \"column\": \"Wind Speed (km/h)\",\n      \"properties\": {\n        \"dtype\": \"number\",\n        \"std\": 6.9207274836908645,\n        \"min\": 0.0,\n        \"max\": 63.8526,\n        \"num_unique_values\": 2484,\n        \"samples\": [\n          23.3611,\n          33.1016\n        ],\n        \"semantic_type\": \"\",\n        \"description\": \"\"\n      }\n    },\n    {\n      \"column\": \"Wind Bearing (degrees)\",\n      \"properties\": {\n        \"dtype\": \"number\",\n        \"std\": 107.38535131900699,\n        \"min\": 0.0,\n        \"max\": 359.0,\n        \"num_unique_values\": 360,\n        \"samples\": [\n          128.0,\n          15.0\n        ],\n        \"semantic_type\": \"\",\n        \"description\": \"\"\n      }\n    },\n    {\n      \"column\": \"Visibility (km)\",\n      \"properties\": {\n        \"dtype\": \"number\",\n        \"std\": 4.173779512319898,\n        \"min\": 0.0,\n        \"max\": 16.1,\n        \"num_unique_values\": 949,\n        \"samples\": [\n          4.395300000000001,\n          6.6332\n        ],\n        \"semantic_type\": \"\",\n        \"description\": \"\"\n      }\n    },\n    {\n      \"column\": \"Loud Cover\",\n      \"properties\": {\n        \"dtype\": \"number\",\n        \"std\": 0.0,\n        \"min\": 0.0,\n        \"max\": 0.0,\n        \"num_unique_values\": 1,\n        \"samples\": [\n          0.0\n        ],\n        \"semantic_type\": \"\",\n        \"description\": \"\"\n      }\n    },\n    {\n      \"column\": \"Pressure (millibars)\",\n      \"properties\": {\n        \"dtype\": \"number\",\n        \"std\": 0.11207876322354435,\n        \"min\": 0.0,\n        \"max\": 1.0,\n        \"num_unique_values\": 4971,\n        \"samples\": [\n          0.9664653376402453\n        ],\n        \"semantic_type\": \"\",\n        \"description\": \"\"\n      }\n    },\n    {\n      \"column\": \"Daily Summary\",\n      \"properties\": {\n        \"dtype\": \"category\",\n        \"num_unique_values\": 214,\n        \"samples\": [\n          \"Partly cloudy until evening.\"\n        ],\n        \"semantic_type\": \"\",\n        \"description\": \"\"\n      }\n    }\n  ]\n}"
            }
          },
          "metadata": {},
          "execution_count": 10
        }
      ]
    },
    {
      "cell_type": "markdown",
      "source": [
        "We will create sequences of length 'window_size' to use as input (X).\n",
        "For example, if window_size=7, the model sees 7 consecutive hourly\n",
        "data points, and it tries to predict the Temperature (C) at the\n",
        "8th time step."
      ],
      "metadata": {
        "id": "9LRMJe_I3sh4"
      }
    },
    {
      "cell_type": "code",
      "source": [
        "def create_sequences(data, target, window_size=7):\n",
        "    \"\"\"\n",
        "    Returns:\n",
        "      X: array of shape (num_samples, window_size, num_features)\n",
        "      y: array of shape (num_samples,)\n",
        "    \"\"\"\n",
        "    X = []\n",
        "    y = []\n",
        "    for i in range(len(data) - window_size):\n",
        "        X.append(data[i:i+window_size])\n",
        "        y.append(target[i+window_size])\n",
        "    return np.array(X), np.array(y)\n",
        "\n",
        "# Convert our DataFrame to numpy arrays\n",
        "input_data = df[feature_cols].values\n",
        "target_data = df[target_col].values\n",
        "\n",
        "# Create sequences\n",
        "window_size = 7\n",
        "X, y = create_sequences(input_data, target_data, window_size)\n",
        "\n",
        "print(\"Shape of X:\", X.shape)\n",
        "print(\"Shape of y:\", y.shape)"
      ],
      "metadata": {
        "colab": {
          "base_uri": "https://localhost:8080/"
        },
        "id": "VDCWZk-g3u_l",
        "outputId": "1fb9219a-e020-4cfa-f9d7-b30588791006"
      },
      "execution_count": 11,
      "outputs": [
        {
          "output_type": "stream",
          "name": "stdout",
          "text": [
            "Shape of X: (95929, 7, 3)\n",
            "Shape of y: (95929,)\n"
          ]
        }
      ]
    },
    {
      "cell_type": "markdown",
      "source": [
        "We'll split the data into 80% training, 10% validation, and 10% testing.\n",
        "This ensures we can monitor validation performance during training\n",
        "and then check final performance on a held-out test set."
      ],
      "metadata": {
        "id": "NnGZqz-63yfp"
      }
    },
    {
      "cell_type": "code",
      "source": [
        "train_size = int(len(X) * 0.8)\n",
        "val_size = int(len(X) * 0.1)\n",
        "\n",
        "X_train = X[:train_size]\n",
        "y_train = y[:train_size]\n",
        "\n",
        "X_val = X[train_size:train_size+val_size]\n",
        "y_val = y[train_size:train_size+val_size]\n",
        "\n",
        "X_test = X[train_size+val_size:]\n",
        "y_test = y[train_size+val_size:]\n",
        "\n",
        "print(\"Train set size:\", X_train.shape, y_train.shape)\n",
        "print(\"Validation set size:\", X_val.shape, y_val.shape)\n",
        "print(\"Test set size:\", X_test.shape, y_test.shape)"
      ],
      "metadata": {
        "colab": {
          "base_uri": "https://localhost:8080/"
        },
        "id": "jSarno0931gs",
        "outputId": "4de211b5-7f62-407c-89fc-2b442543f263"
      },
      "execution_count": 13,
      "outputs": [
        {
          "output_type": "stream",
          "name": "stdout",
          "text": [
            "Train set size: (76743, 7, 3) (76743,)\n",
            "Validation set size: (9592, 7, 3) (9592,)\n",
            "Test set size: (9594, 7, 3) (9594,)\n"
          ]
        }
      ]
    },
    {
      "cell_type": "markdown",
      "source": [
        "We’ll build a simple LSTM model in Keras:\n",
        "\n",
        "1. Input layer (shape = (window_size, number_of_features)).\n",
        "2. LSTM layer with 64 units (default activation = 'tanh').\n",
        "3. Dense output layer with 1 unit (for predicting Temperature).\n",
        "\n",
        "We’ll compile the model with:\n",
        "- Loss = 'mse'\n",
        "- Optimizer = 'adam'\n",
        "- Metrics = ['mae', 'mse']"
      ],
      "metadata": {
        "id": "srGUdSbT34yM"
      }
    },
    {
      "cell_type": "code",
      "source": [
        "model = keras.Sequential([\n",
        "    layers.Input(shape=(window_size, len(feature_cols))),\n",
        "    layers.LSTM(64, activation='tanh', return_sequences=False),\n",
        "    layers.Dense(1)  # Single output for Temperature prediction\n",
        "])\n",
        "\n",
        "model.compile(\n",
        "    loss='mse',\n",
        "    optimizer='adam',\n",
        "    metrics=['mae', 'mse']\n",
        ")\n",
        "\n",
        "model.summary()"
      ],
      "metadata": {
        "colab": {
          "base_uri": "https://localhost:8080/",
          "height": 193
        },
        "id": "v7g1WO6437a3",
        "outputId": "dc6f1baa-454a-4c90-ad53-af9dee1d84a5"
      },
      "execution_count": 14,
      "outputs": [
        {
          "output_type": "display_data",
          "data": {
            "text/plain": [
              "\u001b[1mModel: \"sequential\"\u001b[0m\n"
            ],
            "text/html": [
              "<pre style=\"white-space:pre;overflow-x:auto;line-height:normal;font-family:Menlo,'DejaVu Sans Mono',consolas,'Courier New',monospace\"><span style=\"font-weight: bold\">Model: \"sequential\"</span>\n",
              "</pre>\n"
            ]
          },
          "metadata": {}
        },
        {
          "output_type": "display_data",
          "data": {
            "text/plain": [
              "┏━━━━━━━━━━━━━━━━━━━━━━━━━━━━━━━━━━━━━━┳━━━━━━━━━━━━━━━━━━━━━━━━━━━━━┳━━━━━━━━━━━━━━━━━┓\n",
              "┃\u001b[1m \u001b[0m\u001b[1mLayer (type)                        \u001b[0m\u001b[1m \u001b[0m┃\u001b[1m \u001b[0m\u001b[1mOutput Shape               \u001b[0m\u001b[1m \u001b[0m┃\u001b[1m \u001b[0m\u001b[1m        Param #\u001b[0m\u001b[1m \u001b[0m┃\n",
              "┡━━━━━━━━━━━━━━━━━━━━━━━━━━━━━━━━━━━━━━╇━━━━━━━━━━━━━━━━━━━━━━━━━━━━━╇━━━━━━━━━━━━━━━━━┩\n",
              "│ lstm (\u001b[38;5;33mLSTM\u001b[0m)                          │ (\u001b[38;5;45mNone\u001b[0m, \u001b[38;5;34m64\u001b[0m)                  │          \u001b[38;5;34m17,408\u001b[0m │\n",
              "├──────────────────────────────────────┼─────────────────────────────┼─────────────────┤\n",
              "│ dense (\u001b[38;5;33mDense\u001b[0m)                        │ (\u001b[38;5;45mNone\u001b[0m, \u001b[38;5;34m1\u001b[0m)                   │              \u001b[38;5;34m65\u001b[0m │\n",
              "└──────────────────────────────────────┴─────────────────────────────┴─────────────────┘\n"
            ],
            "text/html": [
              "<pre style=\"white-space:pre;overflow-x:auto;line-height:normal;font-family:Menlo,'DejaVu Sans Mono',consolas,'Courier New',monospace\">┏━━━━━━━━━━━━━━━━━━━━━━━━━━━━━━━━━━━━━━┳━━━━━━━━━━━━━━━━━━━━━━━━━━━━━┳━━━━━━━━━━━━━━━━━┓\n",
              "┃<span style=\"font-weight: bold\"> Layer (type)                         </span>┃<span style=\"font-weight: bold\"> Output Shape                </span>┃<span style=\"font-weight: bold\">         Param # </span>┃\n",
              "┡━━━━━━━━━━━━━━━━━━━━━━━━━━━━━━━━━━━━━━╇━━━━━━━━━━━━━━━━━━━━━━━━━━━━━╇━━━━━━━━━━━━━━━━━┩\n",
              "│ lstm (<span style=\"color: #0087ff; text-decoration-color: #0087ff\">LSTM</span>)                          │ (<span style=\"color: #00d7ff; text-decoration-color: #00d7ff\">None</span>, <span style=\"color: #00af00; text-decoration-color: #00af00\">64</span>)                  │          <span style=\"color: #00af00; text-decoration-color: #00af00\">17,408</span> │\n",
              "├──────────────────────────────────────┼─────────────────────────────┼─────────────────┤\n",
              "│ dense (<span style=\"color: #0087ff; text-decoration-color: #0087ff\">Dense</span>)                        │ (<span style=\"color: #00d7ff; text-decoration-color: #00d7ff\">None</span>, <span style=\"color: #00af00; text-decoration-color: #00af00\">1</span>)                   │              <span style=\"color: #00af00; text-decoration-color: #00af00\">65</span> │\n",
              "└──────────────────────────────────────┴─────────────────────────────┴─────────────────┘\n",
              "</pre>\n"
            ]
          },
          "metadata": {}
        },
        {
          "output_type": "display_data",
          "data": {
            "text/plain": [
              "\u001b[1m Total params: \u001b[0m\u001b[38;5;34m17,473\u001b[0m (68.25 KB)\n"
            ],
            "text/html": [
              "<pre style=\"white-space:pre;overflow-x:auto;line-height:normal;font-family:Menlo,'DejaVu Sans Mono',consolas,'Courier New',monospace\"><span style=\"font-weight: bold\"> Total params: </span><span style=\"color: #00af00; text-decoration-color: #00af00\">17,473</span> (68.25 KB)\n",
              "</pre>\n"
            ]
          },
          "metadata": {}
        },
        {
          "output_type": "display_data",
          "data": {
            "text/plain": [
              "\u001b[1m Trainable params: \u001b[0m\u001b[38;5;34m17,473\u001b[0m (68.25 KB)\n"
            ],
            "text/html": [
              "<pre style=\"white-space:pre;overflow-x:auto;line-height:normal;font-family:Menlo,'DejaVu Sans Mono',consolas,'Courier New',monospace\"><span style=\"font-weight: bold\"> Trainable params: </span><span style=\"color: #00af00; text-decoration-color: #00af00\">17,473</span> (68.25 KB)\n",
              "</pre>\n"
            ]
          },
          "metadata": {}
        },
        {
          "output_type": "display_data",
          "data": {
            "text/plain": [
              "\u001b[1m Non-trainable params: \u001b[0m\u001b[38;5;34m0\u001b[0m (0.00 B)\n"
            ],
            "text/html": [
              "<pre style=\"white-space:pre;overflow-x:auto;line-height:normal;font-family:Menlo,'DejaVu Sans Mono',consolas,'Courier New',monospace\"><span style=\"font-weight: bold\"> Non-trainable params: </span><span style=\"color: #00af00; text-decoration-color: #00af00\">0</span> (0.00 B)\n",
              "</pre>\n"
            ]
          },
          "metadata": {}
        }
      ]
    },
    {
      "cell_type": "markdown",
      "source": [
        "We now train the model for a certain number of epochs (e.g., 20) and a\n",
        "batch size of 32. We also monitor validation loss to see if the model\n",
        "is overfitting or underfitting."
      ],
      "metadata": {
        "id": "8C0CKalX4B3X"
      }
    },
    {
      "cell_type": "code",
      "source": [
        "history = model.fit(\n",
        "    X_train, y_train,\n",
        "    validation_data=(X_val, y_val),\n",
        "    epochs=20,\n",
        "    batch_size=32\n",
        ")"
      ],
      "metadata": {
        "colab": {
          "base_uri": "https://localhost:8080/"
        },
        "id": "rK11HtrC4DtC",
        "outputId": "6dad0d5c-1815-41b7-f4ee-791f6f98e62b"
      },
      "execution_count": 15,
      "outputs": [
        {
          "output_type": "stream",
          "name": "stdout",
          "text": [
            "Epoch 1/20\n",
            "\u001b[1m2399/2399\u001b[0m \u001b[32m━━━━━━━━━━━━━━━━━━━━\u001b[0m\u001b[37m\u001b[0m \u001b[1m17s\u001b[0m 6ms/step - loss: 0.0045 - mae: 0.0401 - mse: 0.0045 - val_loss: 5.3141e-04 - val_mae: 0.0157 - val_mse: 5.3141e-04\n",
            "Epoch 2/20\n",
            "\u001b[1m2399/2399\u001b[0m \u001b[32m━━━━━━━━━━━━━━━━━━━━\u001b[0m\u001b[37m\u001b[0m \u001b[1m21s\u001b[0m 6ms/step - loss: 6.4844e-04 - mae: 0.0177 - mse: 6.4844e-04 - val_loss: 4.1385e-04 - val_mae: 0.0145 - val_mse: 4.1385e-04\n",
            "Epoch 3/20\n",
            "\u001b[1m2399/2399\u001b[0m \u001b[32m━━━━━━━━━━━━━━━━━━━━\u001b[0m\u001b[37m\u001b[0m \u001b[1m14s\u001b[0m 6ms/step - loss: 5.7854e-04 - mae: 0.0162 - mse: 5.7854e-04 - val_loss: 4.0469e-04 - val_mae: 0.0144 - val_mse: 4.0469e-04\n",
            "Epoch 4/20\n",
            "\u001b[1m2399/2399\u001b[0m \u001b[32m━━━━━━━━━━━━━━━━━━━━\u001b[0m\u001b[37m\u001b[0m \u001b[1m13s\u001b[0m 6ms/step - loss: 5.6575e-04 - mae: 0.0159 - mse: 5.6575e-04 - val_loss: 3.7641e-04 - val_mae: 0.0133 - val_mse: 3.7641e-04\n",
            "Epoch 5/20\n",
            "\u001b[1m2399/2399\u001b[0m \u001b[32m━━━━━━━━━━━━━━━━━━━━\u001b[0m\u001b[37m\u001b[0m \u001b[1m20s\u001b[0m 6ms/step - loss: 5.5656e-04 - mae: 0.0157 - mse: 5.5656e-04 - val_loss: 3.7081e-04 - val_mae: 0.0130 - val_mse: 3.7081e-04\n",
            "Epoch 6/20\n",
            "\u001b[1m2399/2399\u001b[0m \u001b[32m━━━━━━━━━━━━━━━━━━━━\u001b[0m\u001b[37m\u001b[0m \u001b[1m14s\u001b[0m 6ms/step - loss: 5.5006e-04 - mae: 0.0156 - mse: 5.5006e-04 - val_loss: 3.7461e-04 - val_mae: 0.0128 - val_mse: 3.7461e-04\n",
            "Epoch 7/20\n",
            "\u001b[1m2399/2399\u001b[0m \u001b[32m━━━━━━━━━━━━━━━━━━━━\u001b[0m\u001b[37m\u001b[0m \u001b[1m20s\u001b[0m 6ms/step - loss: 5.4475e-04 - mae: 0.0155 - mse: 5.4475e-04 - val_loss: 3.8839e-04 - val_mae: 0.0129 - val_mse: 3.8839e-04\n",
            "Epoch 8/20\n",
            "\u001b[1m2399/2399\u001b[0m \u001b[32m━━━━━━━━━━━━━━━━━━━━\u001b[0m\u001b[37m\u001b[0m \u001b[1m14s\u001b[0m 6ms/step - loss: 5.4000e-04 - mae: 0.0154 - mse: 5.4000e-04 - val_loss: 3.9824e-04 - val_mae: 0.0131 - val_mse: 3.9824e-04\n",
            "Epoch 9/20\n",
            "\u001b[1m2399/2399\u001b[0m \u001b[32m━━━━━━━━━━━━━━━━━━━━\u001b[0m\u001b[37m\u001b[0m \u001b[1m20s\u001b[0m 6ms/step - loss: 5.3604e-04 - mae: 0.0153 - mse: 5.3604e-04 - val_loss: 4.0145e-04 - val_mae: 0.0131 - val_mse: 4.0145e-04\n",
            "Epoch 10/20\n",
            "\u001b[1m2399/2399\u001b[0m \u001b[32m━━━━━━━━━━━━━━━━━━━━\u001b[0m\u001b[37m\u001b[0m \u001b[1m16s\u001b[0m 7ms/step - loss: 5.3291e-04 - mae: 0.0153 - mse: 5.3291e-04 - val_loss: 4.0209e-04 - val_mae: 0.0131 - val_mse: 4.0209e-04\n",
            "Epoch 11/20\n",
            "\u001b[1m2399/2399\u001b[0m \u001b[32m━━━━━━━━━━━━━━━━━━━━\u001b[0m\u001b[37m\u001b[0m \u001b[1m16s\u001b[0m 7ms/step - loss: 5.3046e-04 - mae: 0.0152 - mse: 5.3046e-04 - val_loss: 4.0288e-04 - val_mae: 0.0132 - val_mse: 4.0288e-04\n",
            "Epoch 12/20\n",
            "\u001b[1m2399/2399\u001b[0m \u001b[32m━━━━━━━━━━━━━━━━━━━━\u001b[0m\u001b[37m\u001b[0m \u001b[1m18s\u001b[0m 6ms/step - loss: 5.2852e-04 - mae: 0.0152 - mse: 5.2852e-04 - val_loss: 4.0486e-04 - val_mae: 0.0132 - val_mse: 4.0486e-04\n",
            "Epoch 13/20\n",
            "\u001b[1m2399/2399\u001b[0m \u001b[32m━━━━━━━━━━━━━━━━━━━━\u001b[0m\u001b[37m\u001b[0m \u001b[1m13s\u001b[0m 6ms/step - loss: 5.2694e-04 - mae: 0.0151 - mse: 5.2694e-04 - val_loss: 4.0780e-04 - val_mae: 0.0133 - val_mse: 4.0780e-04\n",
            "Epoch 14/20\n",
            "\u001b[1m2399/2399\u001b[0m \u001b[32m━━━━━━━━━━━━━━━━━━━━\u001b[0m\u001b[37m\u001b[0m \u001b[1m14s\u001b[0m 6ms/step - loss: 5.2556e-04 - mae: 0.0151 - mse: 5.2556e-04 - val_loss: 4.1051e-04 - val_mae: 0.0134 - val_mse: 4.1051e-04\n",
            "Epoch 15/20\n",
            "\u001b[1m2399/2399\u001b[0m \u001b[32m━━━━━━━━━━━━━━━━━━━━\u001b[0m\u001b[37m\u001b[0m \u001b[1m20s\u001b[0m 6ms/step - loss: 5.2428e-04 - mae: 0.0151 - mse: 5.2428e-04 - val_loss: 4.1156e-04 - val_mae: 0.0134 - val_mse: 4.1156e-04\n",
            "Epoch 16/20\n",
            "\u001b[1m2399/2399\u001b[0m \u001b[32m━━━━━━━━━━━━━━━━━━━━\u001b[0m\u001b[37m\u001b[0m \u001b[1m20s\u001b[0m 6ms/step - loss: 5.2303e-04 - mae: 0.0151 - mse: 5.2303e-04 - val_loss: 4.1026e-04 - val_mae: 0.0134 - val_mse: 4.1026e-04\n",
            "Epoch 17/20\n",
            "\u001b[1m2399/2399\u001b[0m \u001b[32m━━━━━━━━━━━━━━━━━━━━\u001b[0m\u001b[37m\u001b[0m \u001b[1m14s\u001b[0m 6ms/step - loss: 5.2178e-04 - mae: 0.0150 - mse: 5.2178e-04 - val_loss: 4.0694e-04 - val_mae: 0.0133 - val_mse: 4.0694e-04\n",
            "Epoch 18/20\n",
            "\u001b[1m2399/2399\u001b[0m \u001b[32m━━━━━━━━━━━━━━━━━━━━\u001b[0m\u001b[37m\u001b[0m \u001b[1m20s\u001b[0m 6ms/step - loss: 5.2051e-04 - mae: 0.0150 - mse: 5.2051e-04 - val_loss: 4.0246e-04 - val_mae: 0.0132 - val_mse: 4.0246e-04\n",
            "Epoch 19/20\n",
            "\u001b[1m2399/2399\u001b[0m \u001b[32m━━━━━━━━━━━━━━━━━━━━\u001b[0m\u001b[37m\u001b[0m \u001b[1m14s\u001b[0m 6ms/step - loss: 5.1922e-04 - mae: 0.0150 - mse: 5.1922e-04 - val_loss: 3.9757e-04 - val_mae: 0.0130 - val_mse: 3.9757e-04\n",
            "Epoch 20/20\n",
            "\u001b[1m2399/2399\u001b[0m \u001b[32m━━━━━━━━━━━━━━━━━━━━\u001b[0m\u001b[37m\u001b[0m \u001b[1m14s\u001b[0m 6ms/step - loss: 5.1791e-04 - mae: 0.0150 - mse: 5.1791e-04 - val_loss: 3.9273e-04 - val_mae: 0.0129 - val_mse: 3.9273e-04\n"
          ]
        }
      ]
    },
    {
      "cell_type": "markdown",
      "source": [
        "We'll visualize how the MSE and MAE changed over epochs, then evaluate\n",
        "on the test set. Finally, we calculate RMSE for a more intuitive\n",
        "temperature error metric."
      ],
      "metadata": {
        "id": "9kkvoSxu69Ca"
      }
    },
    {
      "cell_type": "code",
      "source": [
        "# Plot training and validation MSE\n",
        "plt.figure(figsize=(12,5))\n",
        "plt.plot(history.history['mse'], label='Train MSE')\n",
        "plt.plot(history.history['val_mse'], label='Validation MSE')\n",
        "plt.title('Training and Validation MSE')\n",
        "plt.xlabel('Epoch')\n",
        "plt.ylabel('MSE')\n",
        "plt.legend()\n",
        "plt.show()\n",
        "\n",
        "# Plot training and validation MAE\n",
        "plt.figure(figsize=(12,5))\n",
        "plt.plot(history.history['mae'], label='Train MAE')\n",
        "plt.plot(history.history['val_mae'], label='Validation MAE')\n",
        "plt.title('Training and Validation MAE')\n",
        "plt.xlabel('Epoch')\n",
        "plt.ylabel('MAE')\n",
        "plt.legend()\n",
        "plt.show()"
      ],
      "metadata": {
        "colab": {
          "base_uri": "https://localhost:8080/",
          "height": 957
        },
        "id": "JwluegFx6_Xj",
        "outputId": "4a9f3758-868a-495f-9576-e4e84f459bfd"
      },
      "execution_count": 16,
      "outputs": [
        {
          "output_type": "display_data",
          "data": {
            "text/plain": [
              "<Figure size 1200x500 with 1 Axes>"
            ],
            "image/png": "[encoded data removed]"
          },
          "metadata": {}
        },
        {
          "output_type": "display_data",
          "data": {
            "text/plain": [
              "<Figure size 1200x500 with 1 Axes>"
            ],
            "image/png": "[encoded data removed]"
          },
          "metadata": {}
        }
      ]
    },
    {
      "cell_type": "code",
      "source": [
        "# Final evaluation on the test set\n",
        "test_loss, test_mae, test_mse = model.evaluate(X_test, y_test)\n",
        "print(f\"Test MSE: {test_mse}\")\n",
        "print(f\"Test MAE: {test_mae}\")\n",
        "\n",
        "# Calculate RMSE\n",
        "test_rmse = np.sqrt(test_mse)\n",
        "print(f\"Test RMSE: {test_rmse}\")"
      ],
      "metadata": {
        "colab": {
          "base_uri": "https://localhost:8080/"
        },
        "id": "Y9wIUlcB7m-P",
        "outputId": "4b0f06c2-a4c1-4252-9d69-5c1c24493a8a"
      },
      "execution_count": 17,
      "outputs": [
        {
          "output_type": "stream",
          "name": "stdout",
          "text": [
            "\u001b[1m300/300\u001b[0m \u001b[32m━━━━━━━━━━━━━━━━━━━━\u001b[0m\u001b[37m\u001b[0m \u001b[1m1s\u001b[0m 3ms/step - loss: 3.9612e-04 - mae: 0.0131 - mse: 3.9612e-04\n",
            "Test MSE: 0.00037399434950202703\n",
            "Test MAE: 0.012630365788936615\n",
            "Test RMSE: 0.01933893351511471\n"
          ]
        }
      ]
    },
    {
      "cell_type": "markdown",
      "source": [
        "**Conclusion and Insights**\n",
        "\n",
        "Based on the final training, validation, and test performance:\n",
        "\n",
        "- **Final Training Loss (MSE)** reached around `5.1791e-04`, and **Validation Loss (MSE)** settled around `3.9273e-04`.  \n",
        "- The final **Test MSE** is approximately `3.9612e-04`. Converting this to RMSE, we get about `0.0193`.  \n",
        "- The **Test MAE** is around `0.0126`.\n",
        "\n",
        "These metrics indicate the model is making fairly small errors when predicting normalized temperature values. Since we used scaling (MinMaxScaler), the predicted values are on the same normalized scale. If we invert the scaling, we could see exactly how many degrees Celsius (on average) this corresponds to in real-world terms. However, even on the normalized scale, an MSE in the order of `1e-4` and an RMSE around `0.019` suggest the model is learning temporal patterns well, without suffering major overfitting (the training and validation curves are fairly close after 20 epochs).\n",
        "\n",
        "**Interpretation & Potential Next Steps:**\n",
        "1. **Good Fit**: The small gap between training and validation loss implies we are not severely overfitting. The test error is also close to the validation error, indicating good generalization.\n",
        "2. **Model Complexity**: With a single LSTM layer (64 units) and a Dense output, the network is relatively straightforward. You might explore deeper or stacked LSTMs for potentially improved performance, or simpler architectures if you want faster training.\n",
        "3. **Hyperparameter Tuning**: Experimenting with window size, number of LSTM units, or different learning rates could yield better results.\n",
        "4. **Feature Engineering**: Adding more weather features (e.g., wind speed, precipitation) or time-based features (e.g., month, hour) might help the model capture more complex patterns.\n",
        "5. **Inverse Scaling**: To interpret the actual temperature error in Celsius, run an inverse transform on predictions and compare them with the true temperature values directly.\n",
        "\n",
        "Overall, these results show that the model has captured the time-series structure of the weather data successfully, as indicated by the low error metrics and consistent learning curves."
      ],
      "metadata": {
        "id": "c2BYgv2X7_xf"
      }
    },
    {
      "cell_type": "markdown",
      "source": [
        "**Task 2 Part 2 (30 Points):**  \n",
        "We previously built a sequence model for weather forecasting using an LSTM.\n",
        "Now, we will:\n",
        "1. Compare a basic RNN (SimpleRNN),\n",
        "2. The LSTM model, and\n",
        "3. A GRU-based model,\n",
        "\n",
        "all trained on the same preprocessed weather data from Part 1.\n",
        "\n",
        "\n",
        "**Key Points:**  \n",
        "- We will use the same training/validation/test splits, same data preprocessing,\n",
        "  and same hyperparameters (where applicable) to keep the comparison fair.\n",
        "- We will provide performance visualization of the loss curves and final metrics\n",
        "  for each model."
      ],
      "metadata": {
        "id": "mNDJ7-Qn8iKU"
      }
    },
    {
      "cell_type": "markdown",
      "source": [
        "We'll define a very simple RNN using Keras's SimpleRNN layer. This is often\n",
        "used as a baseline for comparison with LSTM/GRU models. We'll keep:\n",
        "- window_size = 7 (same as before),\n",
        "- a single SimpleRNN layer with 64 units,\n",
        "- a Dense output layer with 1 unit for temperature prediction."
      ],
      "metadata": {
        "id": "iyrja0TuDN55"
      }
    },
    {
      "cell_type": "markdown",
      "source": [],
      "metadata": {
        "id": "ODPq8nHuDUpl"
      }
    },
    {
      "cell_type": "code",
      "source": [
        "from tensorflow.keras.models import Sequential\n",
        "from tensorflow.keras.layers import SimpleRNN, Dense\n",
        "\n",
        "# Build Simple RNN model\n",
        "model_rnn = Sequential([\n",
        "    SimpleRNN(64, activation='tanh', input_shape=(X_train.shape[1], X_train.shape[2])),\n",
        "    Dense(1)\n",
        "])\n",
        "\n",
        "model_rnn.compile(\n",
        "    loss='mse',\n",
        "    optimizer='adam',\n",
        "    metrics=['mae', 'mse']\n",
        ")\n",
        "\n",
        "model_rnn.summary()\n",
        "\n",
        "# Train\n",
        "history_rnn = model_rnn.fit(\n",
        "    X_train, y_train,\n",
        "    validation_data=(X_val, y_val),\n",
        "    epochs=20,\n",
        "    batch_size=32\n",
        ")"
      ],
      "metadata": {
        "colab": {
          "base_uri": "https://localhost:8080/",
          "height": 887
        },
        "id": "To3tHreYDMBf",
        "outputId": "7556679f-a88e-4d47-b660-d29c523483cb"
      },
      "execution_count": 23,
      "outputs": [
        {
          "output_type": "display_data",
          "data": {
            "text/plain": [
              "\u001b[1mModel: \"sequential_3\"\u001b[0m\n"
            ],
            "text/html": [
              "<pre style=\"white-space:pre;overflow-x:auto;line-height:normal;font-family:Menlo,'DejaVu Sans Mono',consolas,'Courier New',monospace\"><span style=\"font-weight: bold\">Model: \"sequential_3\"</span>\n",
              "</pre>\n"
            ]
          },
          "metadata": {}
        },
        {
          "output_type": "display_data",
          "data": {
            "text/plain": [
              "┏━━━━━━━━━━━━━━━━━━━━━━━━━━━━━━━━━━━━━━┳━━━━━━━━━━━━━━━━━━━━━━━━━━━━━┳━━━━━━━━━━━━━━━━━┓\n",
              "┃\u001b[1m \u001b[0m\u001b[1mLayer (type)                        \u001b[0m\u001b[1m \u001b[0m┃\u001b[1m \u001b[0m\u001b[1mOutput Shape               \u001b[0m\u001b[1m \u001b[0m┃\u001b[1m \u001b[0m\u001b[1m        Param #\u001b[0m\u001b[1m \u001b[0m┃\n",
              "┡━━━━━━━━━━━━━━━━━━━━━━━━━━━━━━━━━━━━━━╇━━━━━━━━━━━━━━━━━━━━━━━━━━━━━╇━━━━━━━━━━━━━━━━━┩\n",
              "│ simple_rnn (\u001b[38;5;33mSimpleRNN\u001b[0m)               │ (\u001b[38;5;45mNone\u001b[0m, \u001b[38;5;34m64\u001b[0m)                  │           \u001b[38;5;34m4,352\u001b[0m │\n",
              "├──────────────────────────────────────┼─────────────────────────────┼─────────────────┤\n",
              "│ dense_3 (\u001b[38;5;33mDense\u001b[0m)                      │ (\u001b[38;5;45mNone\u001b[0m, \u001b[38;5;34m1\u001b[0m)                   │              \u001b[38;5;34m65\u001b[0m │\n",
              "└──────────────────────────────────────┴─────────────────────────────┴─────────────────┘\n"
            ],
            "text/html": [
              "<pre style=\"white-space:pre;overflow-x:auto;line-height:normal;font-family:Menlo,'DejaVu Sans Mono',consolas,'Courier New',monospace\">┏━━━━━━━━━━━━━━━━━━━━━━━━━━━━━━━━━━━━━━┳━━━━━━━━━━━━━━━━━━━━━━━━━━━━━┳━━━━━━━━━━━━━━━━━┓\n",
              "┃<span style=\"font-weight: bold\"> Layer (type)                         </span>┃<span style=\"font-weight: bold\"> Output Shape                </span>┃<span style=\"font-weight: bold\">         Param # </span>┃\n",
              "┡━━━━━━━━━━━━━━━━━━━━━━━━━━━━━━━━━━━━━━╇━━━━━━━━━━━━━━━━━━━━━━━━━━━━━╇━━━━━━━━━━━━━━━━━┩\n",
              "│ simple_rnn (<span style=\"color: #0087ff; text-decoration-color: #0087ff\">SimpleRNN</span>)               │ (<span style=\"color: #00d7ff; text-decoration-color: #00d7ff\">None</span>, <span style=\"color: #00af00; text-decoration-color: #00af00\">64</span>)                  │           <span style=\"color: #00af00; text-decoration-color: #00af00\">4,352</span> │\n",
              "├──────────────────────────────────────┼─────────────────────────────┼─────────────────┤\n",
              "│ dense_3 (<span style=\"color: #0087ff; text-decoration-color: #0087ff\">Dense</span>)                      │ (<span style=\"color: #00d7ff; text-decoration-color: #00d7ff\">None</span>, <span style=\"color: #00af00; text-decoration-color: #00af00\">1</span>)                   │              <span style=\"color: #00af00; text-decoration-color: #00af00\">65</span> │\n",
              "└──────────────────────────────────────┴─────────────────────────────┴─────────────────┘\n",
              "</pre>\n"
            ]
          },
          "metadata": {}
        },
        {
          "output_type": "display_data",
          "data": {
            "text/plain": [
              "\u001b[1m Total params: \u001b[0m\u001b[38;5;34m4,417\u001b[0m (17.25 KB)\n"
            ],
            "text/html": [
              "<pre style=\"white-space:pre;overflow-x:auto;line-height:normal;font-family:Menlo,'DejaVu Sans Mono',consolas,'Courier New',monospace\"><span style=\"font-weight: bold\"> Total params: </span><span style=\"color: #00af00; text-decoration-color: #00af00\">4,417</span> (17.25 KB)\n",
              "</pre>\n"
            ]
          },
          "metadata": {}
        },
        {
          "output_type": "display_data",
          "data": {
            "text/plain": [
              "\u001b[1m Trainable params: \u001b[0m\u001b[38;5;34m4,417\u001b[0m (17.25 KB)\n"
            ],
            "text/html": [
              "<pre style=\"white-space:pre;overflow-x:auto;line-height:normal;font-family:Menlo,'DejaVu Sans Mono',consolas,'Courier New',monospace\"><span style=\"font-weight: bold\"> Trainable params: </span><span style=\"color: #00af00; text-decoration-color: #00af00\">4,417</span> (17.25 KB)\n",
              "</pre>\n"
            ]
          },
          "metadata": {}
        },
        {
          "output_type": "display_data",
          "data": {
            "text/plain": [
              "\u001b[1m Non-trainable params: \u001b[0m\u001b[38;5;34m0\u001b[0m (0.00 B)\n"
            ],
            "text/html": [
              "<pre style=\"white-space:pre;overflow-x:auto;line-height:normal;font-family:Menlo,'DejaVu Sans Mono',consolas,'Courier New',monospace\"><span style=\"font-weight: bold\"> Non-trainable params: </span><span style=\"color: #00af00; text-decoration-color: #00af00\">0</span> (0.00 B)\n",
              "</pre>\n"
            ]
          },
          "metadata": {}
        },
        {
          "output_type": "stream",
          "name": "stdout",
          "text": [
            "Epoch 1/20\n",
            "\u001b[1m2399/2399\u001b[0m \u001b[32m━━━━━━━━━━━━━━━━━━━━\u001b[0m\u001b[37m\u001b[0m \u001b[1m12s\u001b[0m 4ms/step - loss: 0.0027 - mae: 0.0309 - mse: 0.0027 - val_loss: 5.9092e-04 - val_mae: 0.0189 - val_mse: 5.9092e-04\n",
            "Epoch 2/20\n",
            "\u001b[1m2399/2399\u001b[0m \u001b[32m━━━━━━━━━━━━━━━━━━━━\u001b[0m\u001b[37m\u001b[0m \u001b[1m20s\u001b[0m 4ms/step - loss: 6.7135e-04 - mae: 0.0183 - mse: 6.7135e-04 - val_loss: 4.4412e-04 - val_mae: 0.0143 - val_mse: 4.4412e-04\n",
            "Epoch 3/20\n",
            "\u001b[1m2399/2399\u001b[0m \u001b[32m━━━━━━━━━━━━━━━━━━━━\u001b[0m\u001b[37m\u001b[0m \u001b[1m10s\u001b[0m 4ms/step - loss: 6.0372e-04 - mae: 0.0167 - mse: 6.0372e-04 - val_loss: 3.8867e-04 - val_mae: 0.0128 - val_mse: 3.8867e-04\n",
            "Epoch 4/20\n",
            "\u001b[1m2399/2399\u001b[0m \u001b[32m━━━━━━━━━━━━━━━━━━━━\u001b[0m\u001b[37m\u001b[0m \u001b[1m9s\u001b[0m 4ms/step - loss: 5.9809e-04 - mae: 0.0165 - mse: 5.9809e-04 - val_loss: 3.8729e-04 - val_mae: 0.0134 - val_mse: 3.8729e-04\n",
            "Epoch 5/20\n",
            "\u001b[1m2399/2399\u001b[0m \u001b[32m━━━━━━━━━━━━━━━━━━━━\u001b[0m\u001b[37m\u001b[0m \u001b[1m9s\u001b[0m 4ms/step - loss: 5.9508e-04 - mae: 0.0165 - mse: 5.9508e-04 - val_loss: 4.0387e-04 - val_mae: 0.0142 - val_mse: 4.0387e-04\n",
            "Epoch 6/20\n",
            "\u001b[1m2399/2399\u001b[0m \u001b[32m━━━━━━━━━━━━━━━━━━━━\u001b[0m\u001b[37m\u001b[0m \u001b[1m11s\u001b[0m 4ms/step - loss: 5.8691e-04 - mae: 0.0163 - mse: 5.8691e-04 - val_loss: 3.8423e-04 - val_mae: 0.0136 - val_mse: 3.8423e-04\n",
            "Epoch 7/20\n",
            "\u001b[1m2399/2399\u001b[0m \u001b[32m━━━━━━━━━━━━━━━━━━━━\u001b[0m\u001b[37m\u001b[0m \u001b[1m9s\u001b[0m 4ms/step - loss: 5.8226e-04 - mae: 0.0162 - mse: 5.8226e-04 - val_loss: 3.7307e-04 - val_mae: 0.0129 - val_mse: 3.7307e-04\n",
            "Epoch 8/20\n",
            "\u001b[1m2399/2399\u001b[0m \u001b[32m━━━━━━━━━━━━━━━━━━━━\u001b[0m\u001b[37m\u001b[0m \u001b[1m8s\u001b[0m 4ms/step - loss: 5.7734e-04 - mae: 0.0161 - mse: 5.7734e-04 - val_loss: 3.7575e-04 - val_mae: 0.0129 - val_mse: 3.7575e-04\n",
            "Epoch 9/20\n",
            "\u001b[1m2399/2399\u001b[0m \u001b[32m━━━━━━━━━━━━━━━━━━━━\u001b[0m\u001b[37m\u001b[0m \u001b[1m10s\u001b[0m 4ms/step - loss: 5.7337e-04 - mae: 0.0160 - mse: 5.7337e-04 - val_loss: 3.8099e-04 - val_mae: 0.0129 - val_mse: 3.8099e-04\n",
            "Epoch 10/20\n",
            "\u001b[1m2399/2399\u001b[0m \u001b[32m━━━━━━━━━━━━━━━━━━━━\u001b[0m\u001b[37m\u001b[0m \u001b[1m9s\u001b[0m 4ms/step - loss: 5.7032e-04 - mae: 0.0160 - mse: 5.7032e-04 - val_loss: 3.9035e-04 - val_mae: 0.0131 - val_mse: 3.9035e-04\n",
            "Epoch 11/20\n",
            "\u001b[1m2399/2399\u001b[0m \u001b[32m━━━━━━━━━━━━━━━━━━━━\u001b[0m\u001b[37m\u001b[0m \u001b[1m9s\u001b[0m 4ms/step - loss: 5.6760e-04 - mae: 0.0159 - mse: 5.6760e-04 - val_loss: 3.9752e-04 - val_mae: 0.0132 - val_mse: 3.9752e-04\n",
            "Epoch 12/20\n",
            "\u001b[1m2399/2399\u001b[0m \u001b[32m━━━━━━━━━━━━━━━━━━━━\u001b[0m\u001b[37m\u001b[0m \u001b[1m8s\u001b[0m 3ms/step - loss: 5.6512e-04 - mae: 0.0158 - mse: 5.6512e-04 - val_loss: 3.9928e-04 - val_mae: 0.0132 - val_mse: 3.9928e-04\n",
            "Epoch 13/20\n",
            "\u001b[1m2399/2399\u001b[0m \u001b[32m━━━━━━━━━━━━━━━━━━━━\u001b[0m\u001b[37m\u001b[0m \u001b[1m9s\u001b[0m 4ms/step - loss: 5.6311e-04 - mae: 0.0158 - mse: 5.6311e-04 - val_loss: 4.0643e-04 - val_mae: 0.0134 - val_mse: 4.0643e-04\n",
            "Epoch 14/20\n",
            "\u001b[1m2399/2399\u001b[0m \u001b[32m━━━━━━━━━━━━━━━━━━━━\u001b[0m\u001b[37m\u001b[0m \u001b[1m11s\u001b[0m 4ms/step - loss: 5.6133e-04 - mae: 0.0157 - mse: 5.6133e-04 - val_loss: 4.1168e-04 - val_mae: 0.0135 - val_mse: 4.1168e-04\n",
            "Epoch 15/20\n",
            "\u001b[1m2399/2399\u001b[0m \u001b[32m━━━━━━━━━━━━━━━━━━━━\u001b[0m\u001b[37m\u001b[0m \u001b[1m10s\u001b[0m 4ms/step - loss: 5.5982e-04 - mae: 0.0157 - mse: 5.5982e-04 - val_loss: 4.1464e-04 - val_mae: 0.0135 - val_mse: 4.1464e-04\n",
            "Epoch 16/20\n",
            "\u001b[1m2399/2399\u001b[0m \u001b[32m━━━━━━━━━━━━━━━━━━━━\u001b[0m\u001b[37m\u001b[0m \u001b[1m9s\u001b[0m 3ms/step - loss: 5.5863e-04 - mae: 0.0157 - mse: 5.5863e-04 - val_loss: 4.1722e-04 - val_mae: 0.0136 - val_mse: 4.1722e-04\n",
            "Epoch 17/20\n",
            "\u001b[1m2399/2399\u001b[0m \u001b[32m━━━━━━━━━━━━━━━━━━━━\u001b[0m\u001b[37m\u001b[0m \u001b[1m10s\u001b[0m 4ms/step - loss: 5.5781e-04 - mae: 0.0157 - mse: 5.5781e-04 - val_loss: 4.1817e-04 - val_mae: 0.0136 - val_mse: 4.1817e-04\n",
            "Epoch 18/20\n",
            "\u001b[1m2399/2399\u001b[0m \u001b[32m━━━━━━━━━━━━━━━━━━━━\u001b[0m\u001b[37m\u001b[0m \u001b[1m10s\u001b[0m 4ms/step - loss: 5.5704e-04 - mae: 0.0156 - mse: 5.5704e-04 - val_loss: 4.1720e-04 - val_mae: 0.0136 - val_mse: 4.1720e-04\n",
            "Epoch 19/20\n",
            "\u001b[1m2399/2399\u001b[0m \u001b[32m━━━━━━━━━━━━━━━━━━━━\u001b[0m\u001b[37m\u001b[0m \u001b[1m9s\u001b[0m 4ms/step - loss: 5.5653e-04 - mae: 0.0156 - mse: 5.5653e-04 - val_loss: 4.2059e-04 - val_mae: 0.0137 - val_mse: 4.2059e-04\n",
            "Epoch 20/20\n",
            "\u001b[1m2399/2399\u001b[0m \u001b[32m━━━━━━━━━━━━━━━━━━━━\u001b[0m\u001b[37m\u001b[0m \u001b[1m10s\u001b[0m 4ms/step - loss: 5.5587e-04 - mae: 0.0156 - mse: 5.5587e-04 - val_loss: 4.2147e-04 - val_mae: 0.0137 - val_mse: 4.2147e-04\n"
          ]
        }
      ]
    },
    {
      "cell_type": "markdown",
      "source": [
        "We'll use the Keras LSTM layer again with 64 units. The key difference\n",
        "from SimpleRNN is the internal gating mechanisms (input, output, and forget gates),\n",
        "which help the LSTM handle long-term dependencies and mitigate the vanishing\n",
        "gradient problem."
      ],
      "metadata": {
        "id": "r7lm7pzwDWgl"
      }
    },
    {
      "cell_type": "code",
      "source": [
        "from tensorflow.keras.layers import LSTM\n",
        "\n",
        "model_lstm = Sequential([\n",
        "    LSTM(64, activation='tanh', input_shape=(X_train.shape[1], X_train.shape[2])),\n",
        "    Dense(1)\n",
        "])\n",
        "\n",
        "model_lstm.compile(\n",
        "    loss='mse',\n",
        "    optimizer='adam',\n",
        "    metrics=['mae', 'mse']\n",
        ")\n",
        "\n",
        "model_lstm.summary()\n",
        "\n",
        "# Train\n",
        "history_lstm = model_lstm.fit(\n",
        "    X_train, y_train,\n",
        "    validation_data=(X_val, y_val),\n",
        "    epochs=20,\n",
        "    batch_size=32\n",
        ")"
      ],
      "metadata": {
        "colab": {
          "base_uri": "https://localhost:8080/",
          "height": 887
        },
        "id": "7ET_or8DDY56",
        "outputId": "d3b8abd1-7f1a-44d1-ab61-2656520ef7f9"
      },
      "execution_count": 24,
      "outputs": [
        {
          "output_type": "display_data",
          "data": {
            "text/plain": [
              "\u001b[1mModel: \"sequential_4\"\u001b[0m\n"
            ],
            "text/html": [
              "<pre style=\"white-space:pre;overflow-x:auto;line-height:normal;font-family:Menlo,'DejaVu Sans Mono',consolas,'Courier New',monospace\"><span style=\"font-weight: bold\">Model: \"sequential_4\"</span>\n",
              "</pre>\n"
            ]
          },
          "metadata": {}
        },
        {
          "output_type": "display_data",
          "data": {
            "text/plain": [
              "┏━━━━━━━━━━━━━━━━━━━━━━━━━━━━━━━━━━━━━━┳━━━━━━━━━━━━━━━━━━━━━━━━━━━━━┳━━━━━━━━━━━━━━━━━┓\n",
              "┃\u001b[1m \u001b[0m\u001b[1mLayer (type)                        \u001b[0m\u001b[1m \u001b[0m┃\u001b[1m \u001b[0m\u001b[1mOutput Shape               \u001b[0m\u001b[1m \u001b[0m┃\u001b[1m \u001b[0m\u001b[1m        Param #\u001b[0m\u001b[1m \u001b[0m┃\n",
              "┡━━━━━━━━━━━━━━━━━━━━━━━━━━━━━━━━━━━━━━╇━━━━━━━━━━━━━━━━━━━━━━━━━━━━━╇━━━━━━━━━━━━━━━━━┩\n",
              "│ lstm_1 (\u001b[38;5;33mLSTM\u001b[0m)                        │ (\u001b[38;5;45mNone\u001b[0m, \u001b[38;5;34m64\u001b[0m)                  │          \u001b[38;5;34m17,408\u001b[0m │\n",
              "├──────────────────────────────────────┼─────────────────────────────┼─────────────────┤\n",
              "│ dense_4 (\u001b[38;5;33mDense\u001b[0m)                      │ (\u001b[38;5;45mNone\u001b[0m, \u001b[38;5;34m1\u001b[0m)                   │              \u001b[38;5;34m65\u001b[0m │\n",
              "└──────────────────────────────────────┴─────────────────────────────┴─────────────────┘\n"
            ],
            "text/html": [
              "<pre style=\"white-space:pre;overflow-x:auto;line-height:normal;font-family:Menlo,'DejaVu Sans Mono',consolas,'Courier New',monospace\">┏━━━━━━━━━━━━━━━━━━━━━━━━━━━━━━━━━━━━━━┳━━━━━━━━━━━━━━━━━━━━━━━━━━━━━┳━━━━━━━━━━━━━━━━━┓\n",
              "┃<span style=\"font-weight: bold\"> Layer (type)                         </span>┃<span style=\"font-weight: bold\"> Output Shape                </span>┃<span style=\"font-weight: bold\">         Param # </span>┃\n",
              "┡━━━━━━━━━━━━━━━━━━━━━━━━━━━━━━━━━━━━━━╇━━━━━━━━━━━━━━━━━━━━━━━━━━━━━╇━━━━━━━━━━━━━━━━━┩\n",
              "│ lstm_1 (<span style=\"color: #0087ff; text-decoration-color: #0087ff\">LSTM</span>)                        │ (<span style=\"color: #00d7ff; text-decoration-color: #00d7ff\">None</span>, <span style=\"color: #00af00; text-decoration-color: #00af00\">64</span>)                  │          <span style=\"color: #00af00; text-decoration-color: #00af00\">17,408</span> │\n",
              "├──────────────────────────────────────┼─────────────────────────────┼─────────────────┤\n",
              "│ dense_4 (<span style=\"color: #0087ff; text-decoration-color: #0087ff\">Dense</span>)                      │ (<span style=\"color: #00d7ff; text-decoration-color: #00d7ff\">None</span>, <span style=\"color: #00af00; text-decoration-color: #00af00\">1</span>)                   │              <span style=\"color: #00af00; text-decoration-color: #00af00\">65</span> │\n",
              "└──────────────────────────────────────┴─────────────────────────────┴─────────────────┘\n",
              "</pre>\n"
            ]
          },
          "metadata": {}
        },
        {
          "output_type": "display_data",
          "data": {
            "text/plain": [
              "\u001b[1m Total params: \u001b[0m\u001b[38;5;34m17,473\u001b[0m (68.25 KB)\n"
            ],
            "text/html": [
              "<pre style=\"white-space:pre;overflow-x:auto;line-height:normal;font-family:Menlo,'DejaVu Sans Mono',consolas,'Courier New',monospace\"><span style=\"font-weight: bold\"> Total params: </span><span style=\"color: #00af00; text-decoration-color: #00af00\">17,473</span> (68.25 KB)\n",
              "</pre>\n"
            ]
          },
          "metadata": {}
        },
        {
          "output_type": "display_data",
          "data": {
            "text/plain": [
              "\u001b[1m Trainable params: \u001b[0m\u001b[38;5;34m17,473\u001b[0m (68.25 KB)\n"
            ],
            "text/html": [
              "<pre style=\"white-space:pre;overflow-x:auto;line-height:normal;font-family:Menlo,'DejaVu Sans Mono',consolas,'Courier New',monospace\"><span style=\"font-weight: bold\"> Trainable params: </span><span style=\"color: #00af00; text-decoration-color: #00af00\">17,473</span> (68.25 KB)\n",
              "</pre>\n"
            ]
          },
          "metadata": {}
        },
        {
          "output_type": "display_data",
          "data": {
            "text/plain": [
              "\u001b[1m Non-trainable params: \u001b[0m\u001b[38;5;34m0\u001b[0m (0.00 B)\n"
            ],
            "text/html": [
              "<pre style=\"white-space:pre;overflow-x:auto;line-height:normal;font-family:Menlo,'DejaVu Sans Mono',consolas,'Courier New',monospace\"><span style=\"font-weight: bold\"> Non-trainable params: </span><span style=\"color: #00af00; text-decoration-color: #00af00\">0</span> (0.00 B)\n",
              "</pre>\n"
            ]
          },
          "metadata": {}
        },
        {
          "output_type": "stream",
          "name": "stdout",
          "text": [
            "Epoch 1/20\n",
            "\u001b[1m2399/2399\u001b[0m \u001b[32m━━━━━━━━━━━━━━━━━━━━\u001b[0m\u001b[37m\u001b[0m \u001b[1m19s\u001b[0m 7ms/step - loss: 0.0088 - mae: 0.0489 - mse: 0.0088 - val_loss: 5.5545e-04 - val_mae: 0.0169 - val_mse: 5.5545e-04\n",
            "Epoch 2/20\n",
            "\u001b[1m2399/2399\u001b[0m \u001b[32m━━━━━━━━━━━━━━━━━━━━\u001b[0m\u001b[37m\u001b[0m \u001b[1m14s\u001b[0m 6ms/step - loss: 6.7785e-04 - mae: 0.0182 - mse: 6.7785e-04 - val_loss: 4.2335e-04 - val_mae: 0.0147 - val_mse: 4.2335e-04\n",
            "Epoch 3/20\n",
            "\u001b[1m2399/2399\u001b[0m \u001b[32m━━━━━━━━━━━━━━━━━━━━\u001b[0m\u001b[37m\u001b[0m \u001b[1m21s\u001b[0m 6ms/step - loss: 5.7896e-04 - mae: 0.0163 - mse: 5.7896e-04 - val_loss: 3.9484e-04 - val_mae: 0.0140 - val_mse: 3.9484e-04\n",
            "Epoch 4/20\n",
            "\u001b[1m2399/2399\u001b[0m \u001b[32m━━━━━━━━━━━━━━━━━━━━\u001b[0m\u001b[37m\u001b[0m \u001b[1m16s\u001b[0m 6ms/step - loss: 5.6369e-04 - mae: 0.0159 - mse: 5.6369e-04 - val_loss: 3.7581e-04 - val_mae: 0.0132 - val_mse: 3.7581e-04\n",
            "Epoch 5/20\n",
            "\u001b[1m2399/2399\u001b[0m \u001b[32m━━━━━━━━━━━━━━━━━━━━\u001b[0m\u001b[37m\u001b[0m \u001b[1m21s\u001b[0m 7ms/step - loss: 5.5522e-04 - mae: 0.0157 - mse: 5.5522e-04 - val_loss: 3.7621e-04 - val_mae: 0.0128 - val_mse: 3.7621e-04\n",
            "Epoch 6/20\n",
            "\u001b[1m2399/2399\u001b[0m \u001b[32m━━━━━━━━━━━━━━━━━━━━\u001b[0m\u001b[37m\u001b[0m \u001b[1m16s\u001b[0m 7ms/step - loss: 5.4891e-04 - mae: 0.0156 - mse: 5.4891e-04 - val_loss: 3.9270e-04 - val_mae: 0.0130 - val_mse: 3.9270e-04\n",
            "Epoch 7/20\n",
            "\u001b[1m2399/2399\u001b[0m \u001b[32m━━━━━━━━━━━━━━━━━━━━\u001b[0m\u001b[37m\u001b[0m \u001b[1m19s\u001b[0m 6ms/step - loss: 5.4292e-04 - mae: 0.0155 - mse: 5.4292e-04 - val_loss: 4.0142e-04 - val_mae: 0.0131 - val_mse: 4.0142e-04\n",
            "Epoch 8/20\n",
            "\u001b[1m2399/2399\u001b[0m \u001b[32m━━━━━━━━━━━━━━━━━━━━\u001b[0m\u001b[37m\u001b[0m \u001b[1m21s\u001b[0m 6ms/step - loss: 5.3862e-04 - mae: 0.0154 - mse: 5.3862e-04 - val_loss: 4.0376e-04 - val_mae: 0.0132 - val_mse: 4.0376e-04\n",
            "Epoch 9/20\n",
            "\u001b[1m2399/2399\u001b[0m \u001b[32m━━━━━━━━━━━━━━━━━━━━\u001b[0m\u001b[37m\u001b[0m \u001b[1m20s\u001b[0m 6ms/step - loss: 5.3536e-04 - mae: 0.0153 - mse: 5.3536e-04 - val_loss: 4.0608e-04 - val_mae: 0.0132 - val_mse: 4.0608e-04\n",
            "Epoch 10/20\n",
            "\u001b[1m2399/2399\u001b[0m \u001b[32m━━━━━━━━━━━━━━━━━━━━\u001b[0m\u001b[37m\u001b[0m \u001b[1m20s\u001b[0m 6ms/step - loss: 5.3269e-04 - mae: 0.0153 - mse: 5.3269e-04 - val_loss: 4.1011e-04 - val_mae: 0.0133 - val_mse: 4.1011e-04\n",
            "Epoch 11/20\n",
            "\u001b[1m2399/2399\u001b[0m \u001b[32m━━━━━━━━━━━━━━━━━━━━\u001b[0m\u001b[37m\u001b[0m \u001b[1m14s\u001b[0m 6ms/step - loss: 5.3036e-04 - mae: 0.0152 - mse: 5.3036e-04 - val_loss: 4.1368e-04 - val_mae: 0.0134 - val_mse: 4.1368e-04\n",
            "Epoch 12/20\n",
            "\u001b[1m2399/2399\u001b[0m \u001b[32m━━━━━━━━━━━━━━━━━━━━\u001b[0m\u001b[37m\u001b[0m \u001b[1m20s\u001b[0m 6ms/step - loss: 5.2828e-04 - mae: 0.0152 - mse: 5.2828e-04 - val_loss: 4.1312e-04 - val_mae: 0.0134 - val_mse: 4.1312e-04\n",
            "Epoch 13/20\n",
            "\u001b[1m2399/2399\u001b[0m \u001b[32m━━━━━━━━━━━━━━━━━━━━\u001b[0m\u001b[37m\u001b[0m \u001b[1m21s\u001b[0m 6ms/step - loss: 5.2643e-04 - mae: 0.0151 - mse: 5.2643e-04 - val_loss: 4.0786e-04 - val_mae: 0.0133 - val_mse: 4.0786e-04\n",
            "Epoch 14/20\n",
            "\u001b[1m2399/2399\u001b[0m \u001b[32m━━━━━━━━━━━━━━━━━━━━\u001b[0m\u001b[37m\u001b[0m \u001b[1m20s\u001b[0m 6ms/step - loss: 5.2477e-04 - mae: 0.0151 - mse: 5.2477e-04 - val_loss: 4.0022e-04 - val_mae: 0.0131 - val_mse: 4.0022e-04\n",
            "Epoch 15/20\n",
            "\u001b[1m2399/2399\u001b[0m \u001b[32m━━━━━━━━━━━━━━━━━━━━\u001b[0m\u001b[37m\u001b[0m \u001b[1m14s\u001b[0m 6ms/step - loss: 5.2326e-04 - mae: 0.0151 - mse: 5.2326e-04 - val_loss: 3.9248e-04 - val_mae: 0.0129 - val_mse: 3.9248e-04\n",
            "Epoch 16/20\n",
            "\u001b[1m2399/2399\u001b[0m \u001b[32m━━━━━━━━━━━━━━━━━━━━\u001b[0m\u001b[37m\u001b[0m \u001b[1m14s\u001b[0m 6ms/step - loss: 5.2185e-04 - mae: 0.0150 - mse: 5.2185e-04 - val_loss: 3.8567e-04 - val_mae: 0.0128 - val_mse: 3.8567e-04\n",
            "Epoch 17/20\n",
            "\u001b[1m2399/2399\u001b[0m \u001b[32m━━━━━━━━━━━━━━━━━━━━\u001b[0m\u001b[37m\u001b[0m \u001b[1m14s\u001b[0m 6ms/step - loss: 5.2049e-04 - mae: 0.0150 - mse: 5.2049e-04 - val_loss: 3.7997e-04 - val_mae: 0.0126 - val_mse: 3.7997e-04\n",
            "Epoch 18/20\n",
            "\u001b[1m2399/2399\u001b[0m \u001b[32m━━━━━━━━━━━━━━━━━━━━\u001b[0m\u001b[37m\u001b[0m \u001b[1m21s\u001b[0m 6ms/step - loss: 5.1916e-04 - mae: 0.0150 - mse: 5.1916e-04 - val_loss: 3.7530e-04 - val_mae: 0.0125 - val_mse: 3.7530e-04\n",
            "Epoch 19/20\n",
            "\u001b[1m2399/2399\u001b[0m \u001b[32m━━━━━━━━━━━━━━━━━━━━\u001b[0m\u001b[37m\u001b[0m \u001b[1m14s\u001b[0m 6ms/step - loss: 5.1783e-04 - mae: 0.0149 - mse: 5.1783e-04 - val_loss: 3.7152e-04 - val_mae: 0.0125 - val_mse: 3.7152e-04\n",
            "Epoch 20/20\n",
            "\u001b[1m2399/2399\u001b[0m \u001b[32m━━━━━━━━━━━━━━━━━━━━\u001b[0m\u001b[37m\u001b[0m \u001b[1m14s\u001b[0m 6ms/step - loss: 5.1646e-04 - mae: 0.0149 - mse: 5.1646e-04 - val_loss: 3.6851e-04 - val_mae: 0.0124 - val_mse: 3.6851e-04\n"
          ]
        }
      ]
    },
    {
      "cell_type": "markdown",
      "source": [
        "Finally, we'll define a GRU-based model. A GRU (Gated Recurrent Unit)\n",
        "is similar to an LSTM but uses fewer gates (reset and update gates)\n",
        "and has a somewhat simpler internal architecture. It often trains\n",
        "faster than an LSTM and can perform similarly or better on certain tasks."
      ],
      "metadata": {
        "id": "HS9EdOBqDbl1"
      }
    },
    {
      "cell_type": "code",
      "source": [
        "from tensorflow.keras.layers import GRU\n",
        "\n",
        "model_gru = Sequential([\n",
        "    GRU(64, activation='tanh', input_shape=(X_train.shape[1], X_train.shape[2])),\n",
        "    Dense(1)\n",
        "])\n",
        "\n",
        "model_gru.compile(\n",
        "    loss='mse',\n",
        "    optimizer='adam',\n",
        "    metrics=['mae', 'mse']\n",
        ")\n",
        "\n",
        "model_gru.summary()\n",
        "\n",
        "# Train\n",
        "history_gru = model_gru.fit(\n",
        "    X_train, y_train,\n",
        "    validation_data=(X_val, y_val),\n",
        "    epochs=20,\n",
        "    batch_size=32\n",
        ")"
      ],
      "metadata": {
        "colab": {
          "base_uri": "https://localhost:8080/",
          "height": 887
        },
        "id": "gVHAwDPwDdsy",
        "outputId": "33d7ed9f-6a35-43a8-eb85-02425973571b"
      },
      "execution_count": 25,
      "outputs": [
        {
          "output_type": "display_data",
          "data": {
            "text/plain": [
              "\u001b[1mModel: \"sequential_5\"\u001b[0m\n"
            ],
            "text/html": [
              "<pre style=\"white-space:pre;overflow-x:auto;line-height:normal;font-family:Menlo,'DejaVu Sans Mono',consolas,'Courier New',monospace\"><span style=\"font-weight: bold\">Model: \"sequential_5\"</span>\n",
              "</pre>\n"
            ]
          },
          "metadata": {}
        },
        {
          "output_type": "display_data",
          "data": {
            "text/plain": [
              "┏━━━━━━━━━━━━━━━━━━━━━━━━━━━━━━━━━━━━━━┳━━━━━━━━━━━━━━━━━━━━━━━━━━━━━┳━━━━━━━━━━━━━━━━━┓\n",
              "┃\u001b[1m \u001b[0m\u001b[1mLayer (type)                        \u001b[0m\u001b[1m \u001b[0m┃\u001b[1m \u001b[0m\u001b[1mOutput Shape               \u001b[0m\u001b[1m \u001b[0m┃\u001b[1m \u001b[0m\u001b[1m        Param #\u001b[0m\u001b[1m \u001b[0m┃\n",
              "┡━━━━━━━━━━━━━━━━━━━━━━━━━━━━━━━━━━━━━━╇━━━━━━━━━━━━━━━━━━━━━━━━━━━━━╇━━━━━━━━━━━━━━━━━┩\n",
              "│ gru_2 (\u001b[38;5;33mGRU\u001b[0m)                          │ (\u001b[38;5;45mNone\u001b[0m, \u001b[38;5;34m64\u001b[0m)                  │          \u001b[38;5;34m13,248\u001b[0m │\n",
              "├──────────────────────────────────────┼─────────────────────────────┼─────────────────┤\n",
              "│ dense_5 (\u001b[38;5;33mDense\u001b[0m)                      │ (\u001b[38;5;45mNone\u001b[0m, \u001b[38;5;34m1\u001b[0m)                   │              \u001b[38;5;34m65\u001b[0m │\n",
              "└──────────────────────────────────────┴─────────────────────────────┴─────────────────┘\n"
            ],
            "text/html": [
              "<pre style=\"white-space:pre;overflow-x:auto;line-height:normal;font-family:Menlo,'DejaVu Sans Mono',consolas,'Courier New',monospace\">┏━━━━━━━━━━━━━━━━━━━━━━━━━━━━━━━━━━━━━━┳━━━━━━━━━━━━━━━━━━━━━━━━━━━━━┳━━━━━━━━━━━━━━━━━┓\n",
              "┃<span style=\"font-weight: bold\"> Layer (type)                         </span>┃<span style=\"font-weight: bold\"> Output Shape                </span>┃<span style=\"font-weight: bold\">         Param # </span>┃\n",
              "┡━━━━━━━━━━━━━━━━━━━━━━━━━━━━━━━━━━━━━━╇━━━━━━━━━━━━━━━━━━━━━━━━━━━━━╇━━━━━━━━━━━━━━━━━┩\n",
              "│ gru_2 (<span style=\"color: #0087ff; text-decoration-color: #0087ff\">GRU</span>)                          │ (<span style=\"color: #00d7ff; text-decoration-color: #00d7ff\">None</span>, <span style=\"color: #00af00; text-decoration-color: #00af00\">64</span>)                  │          <span style=\"color: #00af00; text-decoration-color: #00af00\">13,248</span> │\n",
              "├──────────────────────────────────────┼─────────────────────────────┼─────────────────┤\n",
              "│ dense_5 (<span style=\"color: #0087ff; text-decoration-color: #0087ff\">Dense</span>)                      │ (<span style=\"color: #00d7ff; text-decoration-color: #00d7ff\">None</span>, <span style=\"color: #00af00; text-decoration-color: #00af00\">1</span>)                   │              <span style=\"color: #00af00; text-decoration-color: #00af00\">65</span> │\n",
              "└──────────────────────────────────────┴─────────────────────────────┴─────────────────┘\n",
              "</pre>\n"
            ]
          },
          "metadata": {}
        },
        {
          "output_type": "display_data",
          "data": {
            "text/plain": [
              "\u001b[1m Total params: \u001b[0m\u001b[38;5;34m13,313\u001b[0m (52.00 KB)\n"
            ],
            "text/html": [
              "<pre style=\"white-space:pre;overflow-x:auto;line-height:normal;font-family:Menlo,'DejaVu Sans Mono',consolas,'Courier New',monospace\"><span style=\"font-weight: bold\"> Total params: </span><span style=\"color: #00af00; text-decoration-color: #00af00\">13,313</span> (52.00 KB)\n",
              "</pre>\n"
            ]
          },
          "metadata": {}
        },
        {
          "output_type": "display_data",
          "data": {
            "text/plain": [
              "\u001b[1m Trainable params: \u001b[0m\u001b[38;5;34m13,313\u001b[0m (52.00 KB)\n"
            ],
            "text/html": [
              "<pre style=\"white-space:pre;overflow-x:auto;line-height:normal;font-family:Menlo,'DejaVu Sans Mono',consolas,'Courier New',monospace\"><span style=\"font-weight: bold\"> Trainable params: </span><span style=\"color: #00af00; text-decoration-color: #00af00\">13,313</span> (52.00 KB)\n",
              "</pre>\n"
            ]
          },
          "metadata": {}
        },
        {
          "output_type": "display_data",
          "data": {
            "text/plain": [
              "\u001b[1m Non-trainable params: \u001b[0m\u001b[38;5;34m0\u001b[0m (0.00 B)\n"
            ],
            "text/html": [
              "<pre style=\"white-space:pre;overflow-x:auto;line-height:normal;font-family:Menlo,'DejaVu Sans Mono',consolas,'Courier New',monospace\"><span style=\"font-weight: bold\"> Non-trainable params: </span><span style=\"color: #00af00; text-decoration-color: #00af00\">0</span> (0.00 B)\n",
              "</pre>\n"
            ]
          },
          "metadata": {}
        },
        {
          "output_type": "stream",
          "name": "stdout",
          "text": [
            "Epoch 1/20\n",
            "\u001b[1m2399/2399\u001b[0m \u001b[32m━━━━━━━━━━━━━━━━━━━━\u001b[0m\u001b[37m\u001b[0m \u001b[1m20s\u001b[0m 7ms/step - loss: 0.0038 - mae: 0.0340 - mse: 0.0038 - val_loss: 4.3086e-04 - val_mae: 0.0147 - val_mse: 4.3086e-04\n",
            "Epoch 2/20\n",
            "\u001b[1m2399/2399\u001b[0m \u001b[32m━━━━━━━━━━━━━━━━━━━━\u001b[0m\u001b[37m\u001b[0m \u001b[1m16s\u001b[0m 7ms/step - loss: 5.9648e-04 - mae: 0.0167 - mse: 5.9648e-04 - val_loss: 4.0708e-04 - val_mae: 0.0144 - val_mse: 4.0708e-04\n",
            "Epoch 3/20\n",
            "\u001b[1m2399/2399\u001b[0m \u001b[32m━━━━━━━━━━━━━━━━━━━━\u001b[0m\u001b[37m\u001b[0m \u001b[1m21s\u001b[0m 7ms/step - loss: 5.7710e-04 - mae: 0.0162 - mse: 5.7710e-04 - val_loss: 4.0903e-04 - val_mae: 0.0145 - val_mse: 4.0903e-04\n",
            "Epoch 4/20\n",
            "\u001b[1m2399/2399\u001b[0m \u001b[32m━━━━━━━━━━━━━━━━━━━━\u001b[0m\u001b[37m\u001b[0m \u001b[1m20s\u001b[0m 7ms/step - loss: 5.6747e-04 - mae: 0.0160 - mse: 5.6747e-04 - val_loss: 3.8017e-04 - val_mae: 0.0135 - val_mse: 3.8017e-04\n",
            "Epoch 5/20\n",
            "\u001b[1m2399/2399\u001b[0m \u001b[32m━━━━━━━━━━━━━━━━━━━━\u001b[0m\u001b[37m\u001b[0m \u001b[1m16s\u001b[0m 7ms/step - loss: 5.5797e-04 - mae: 0.0158 - mse: 5.5797e-04 - val_loss: 3.6961e-04 - val_mae: 0.0131 - val_mse: 3.6961e-04\n",
            "Epoch 6/20\n",
            "\u001b[1m2399/2399\u001b[0m \u001b[32m━━━━━━━━━━━━━━━━━━━━\u001b[0m\u001b[37m\u001b[0m \u001b[1m17s\u001b[0m 7ms/step - loss: 5.4997e-04 - mae: 0.0157 - mse: 5.4997e-04 - val_loss: 3.6794e-04 - val_mae: 0.0130 - val_mse: 3.6794e-04\n",
            "Epoch 7/20\n",
            "\u001b[1m2399/2399\u001b[0m \u001b[32m━━━━━━━━━━━━━━━━━━━━\u001b[0m\u001b[37m\u001b[0m \u001b[1m16s\u001b[0m 7ms/step - loss: 5.4482e-04 - mae: 0.0156 - mse: 5.4482e-04 - val_loss: 3.6743e-04 - val_mae: 0.0130 - val_mse: 3.6743e-04\n",
            "Epoch 8/20\n",
            "\u001b[1m2399/2399\u001b[0m \u001b[32m━━━━━━━━━━━━━━━━━━━━\u001b[0m\u001b[37m\u001b[0m \u001b[1m16s\u001b[0m 7ms/step - loss: 5.4116e-04 - mae: 0.0155 - mse: 5.4116e-04 - val_loss: 3.6718e-04 - val_mae: 0.0129 - val_mse: 3.6718e-04\n",
            "Epoch 9/20\n",
            "\u001b[1m2399/2399\u001b[0m \u001b[32m━━━━━━━━━━━━━━━━━━━━\u001b[0m\u001b[37m\u001b[0m \u001b[1m21s\u001b[0m 7ms/step - loss: 5.3824e-04 - mae: 0.0154 - mse: 5.3824e-04 - val_loss: 3.6841e-04 - val_mae: 0.0128 - val_mse: 3.6841e-04\n",
            "Epoch 10/20\n",
            "\u001b[1m2399/2399\u001b[0m \u001b[32m━━━━━━━━━━━━━━━━━━━━\u001b[0m\u001b[37m\u001b[0m \u001b[1m16s\u001b[0m 7ms/step - loss: 5.3567e-04 - mae: 0.0154 - mse: 5.3567e-04 - val_loss: 3.7186e-04 - val_mae: 0.0127 - val_mse: 3.7186e-04\n",
            "Epoch 11/20\n",
            "\u001b[1m2399/2399\u001b[0m \u001b[32m━━━━━━━━━━━━━━━━━━━━\u001b[0m\u001b[37m\u001b[0m \u001b[1m20s\u001b[0m 7ms/step - loss: 5.3332e-04 - mae: 0.0153 - mse: 5.3332e-04 - val_loss: 3.7717e-04 - val_mae: 0.0127 - val_mse: 3.7717e-04\n",
            "Epoch 12/20\n",
            "\u001b[1m2399/2399\u001b[0m \u001b[32m━━━━━━━━━━━━━━━━━━━━\u001b[0m\u001b[37m\u001b[0m \u001b[1m16s\u001b[0m 7ms/step - loss: 5.3114e-04 - mae: 0.0153 - mse: 5.3114e-04 - val_loss: 3.8269e-04 - val_mae: 0.0128 - val_mse: 3.8269e-04\n",
            "Epoch 13/20\n",
            "\u001b[1m2399/2399\u001b[0m \u001b[32m━━━━━━━━━━━━━━━━━━━━\u001b[0m\u001b[37m\u001b[0m \u001b[1m17s\u001b[0m 7ms/step - loss: 5.2913e-04 - mae: 0.0153 - mse: 5.2913e-04 - val_loss: 3.8724e-04 - val_mae: 0.0129 - val_mse: 3.8724e-04\n",
            "Epoch 14/20\n",
            "\u001b[1m2399/2399\u001b[0m \u001b[32m━━━━━━━━━━━━━━━━━━━━\u001b[0m\u001b[37m\u001b[0m \u001b[1m19s\u001b[0m 7ms/step - loss: 5.2722e-04 - mae: 0.0152 - mse: 5.2722e-04 - val_loss: 3.9118e-04 - val_mae: 0.0129 - val_mse: 3.9118e-04\n",
            "Epoch 15/20\n",
            "\u001b[1m2399/2399\u001b[0m \u001b[32m━━━━━━━━━━━━━━━━━━━━\u001b[0m\u001b[37m\u001b[0m \u001b[1m21s\u001b[0m 7ms/step - loss: 5.2529e-04 - mae: 0.0152 - mse: 5.2529e-04 - val_loss: 3.9472e-04 - val_mae: 0.0130 - val_mse: 3.9472e-04\n",
            "Epoch 16/20\n",
            "\u001b[1m2399/2399\u001b[0m \u001b[32m━━━━━━━━━━━━━━━━━━━━\u001b[0m\u001b[37m\u001b[0m \u001b[1m16s\u001b[0m 7ms/step - loss: 5.2335e-04 - mae: 0.0151 - mse: 5.2335e-04 - val_loss: 3.9770e-04 - val_mae: 0.0131 - val_mse: 3.9770e-04\n",
            "Epoch 17/20\n",
            "\u001b[1m2399/2399\u001b[0m \u001b[32m━━━━━━━━━━━━━━━━━━━━\u001b[0m\u001b[37m\u001b[0m \u001b[1m21s\u001b[0m 7ms/step - loss: 5.2153e-04 - mae: 0.0151 - mse: 5.2153e-04 - val_loss: 4.0009e-04 - val_mae: 0.0131 - val_mse: 4.0009e-04\n",
            "Epoch 18/20\n",
            "\u001b[1m2399/2399\u001b[0m \u001b[32m━━━━━━━━━━━━━━━━━━━━\u001b[0m\u001b[37m\u001b[0m \u001b[1m20s\u001b[0m 7ms/step - loss: 5.1987e-04 - mae: 0.0151 - mse: 5.1987e-04 - val_loss: 4.0220e-04 - val_mae: 0.0132 - val_mse: 4.0220e-04\n",
            "Epoch 19/20\n",
            "\u001b[1m2399/2399\u001b[0m \u001b[32m━━━━━━━━━━━━━━━━━━━━\u001b[0m\u001b[37m\u001b[0m \u001b[1m19s\u001b[0m 7ms/step - loss: 5.1830e-04 - mae: 0.0150 - mse: 5.1830e-04 - val_loss: 4.0420e-04 - val_mae: 0.0133 - val_mse: 4.0420e-04\n",
            "Epoch 20/20\n",
            "\u001b[1m2399/2399\u001b[0m \u001b[32m━━━━━━━━━━━━━━━━━━━━\u001b[0m\u001b[37m\u001b[0m \u001b[1m21s\u001b[0m 7ms/step - loss: 5.1686e-04 - mae: 0.0150 - mse: 5.1686e-04 - val_loss: 4.0581e-04 - val_mae: 0.0133 - val_mse: 4.0581e-04\n"
          ]
        }
      ]
    },
    {
      "cell_type": "markdown",
      "source": [
        "Now we'll compare how these three models trained, focusing on metrics such as MSE or MAE.\n",
        "We'll also evaluate each model on the test set to see which yields the best final performance."
      ],
      "metadata": {
        "id": "6dVHDBG3Df8r"
      }
    },
    {
      "cell_type": "code",
      "source": [
        "import matplotlib.pyplot as plt\n",
        "\n",
        "plt.figure(figsize=(12, 5))\n",
        "plt.plot(history_rnn.history['mse'], label='RNN Train MSE')\n",
        "plt.plot(history_rnn.history['val_mse'], label='RNN Val MSE')\n",
        "\n",
        "plt.plot(history_lstm.history['mse'], label='LSTM Train MSE')\n",
        "plt.plot(history_lstm.history['val_mse'], label='LSTM Val MSE')\n",
        "\n",
        "plt.plot(history_gru.history['mse'], label='GRU Train MSE')\n",
        "plt.plot(history_gru.history['val_mse'], label='GRU Val MSE')\n",
        "\n",
        "plt.title('Training and Validation MSE for SimpleRNN vs LSTM vs GRU')\n",
        "plt.xlabel('Epoch')\n",
        "plt.ylabel('MSE')\n",
        "plt.legend()\n",
        "plt.show()"
      ],
      "metadata": {
        "colab": {
          "base_uri": "https://localhost:8080/",
          "height": 487
        },
        "id": "hEf87Wy_Dim7",
        "outputId": "f668e109-c4a0-40bf-a8a9-1cbb8575caa4"
      },
      "execution_count": 26,
      "outputs": [
        {
          "output_type": "display_data",
          "data": {
            "text/plain": [
              "<Figure size 1200x500 with 1 Axes>"
            ],
            "image/png": "[encoded data removed]"
          },
          "metadata": {}
        }
      ]
    },
    {
      "cell_type": "code",
      "source": [
        "# Evaluate each model on the test set\n",
        "print(\"Evaluating SimpleRNN model:\")\n",
        "test_loss_rnn, test_mae_rnn, test_mse_rnn = model_rnn.evaluate(X_test, y_test)\n",
        "test_rmse_rnn = (test_mse_rnn**0.5)\n",
        "\n",
        "print(f\"RNN Test MSE: {test_mse_rnn}\")\n",
        "print(f\"RNN Test MAE: {test_mae_rnn}\")\n",
        "print(f\"RNN Test RMSE: {test_rmse_rnn}\\n\")\n",
        "\n",
        "print(\"Evaluating LSTM model:\")\n",
        "test_loss_lstm, test_mae_lstm, test_mse_lstm = model_lstm.evaluate(X_test, y_test)\n",
        "test_rmse_lstm = (test_mse_lstm**0.5)\n",
        "\n",
        "print(f\"LSTM Test MSE: {test_mse_lstm}\")\n",
        "print(f\"LSTM Test MAE: {test_mae_lstm}\")\n",
        "print(f\"LSTM Test RMSE: {test_rmse_lstm}\\n\")\n",
        "\n",
        "print(\"Evaluating GRU model:\")\n",
        "test_loss_gru, test_mae_gru, test_mse_gru = model_gru.evaluate(X_test, y_test)\n",
        "test_rmse_gru = (test_mse_gru**0.5)\n",
        "\n",
        "print(f\"GRU Test MSE: {test_mse_gru}\")\n",
        "print(f\"GRU Test MAE: {test_mae_gru}\")\n",
        "print(f\"GRU Test RMSE: {test_rmse_gru}\")"
      ],
      "metadata": {
        "colab": {
          "base_uri": "https://localhost:8080/"
        },
        "id": "E5NtQi2xDla3",
        "outputId": "e5f622a3-2735-484d-ada8-3fefbefe4a72"
      },
      "execution_count": 27,
      "outputs": [
        {
          "output_type": "stream",
          "name": "stdout",
          "text": [
            "Evaluating SimpleRNN model:\n",
            "\u001b[1m300/300\u001b[0m \u001b[32m━━━━━━━━━━━━━━━━━━━━\u001b[0m\u001b[37m\u001b[0m \u001b[1m1s\u001b[0m 2ms/step - loss: 4.1619e-04 - mae: 0.0136 - mse: 4.1619e-04\n",
            "RNN Test MSE: 0.0003932346007786691\n",
            "RNN Test MAE: 0.0130736343562603\n",
            "RNN Test RMSE: 0.01983014374074654\n",
            "\n",
            "Evaluating LSTM model:\n",
            "\u001b[1m300/300\u001b[0m \u001b[32m━━━━━━━━━━━━━━━━━━━━\u001b[0m\u001b[37m\u001b[0m \u001b[1m1s\u001b[0m 3ms/step - loss: 3.7219e-04 - mae: 0.0127 - mse: 3.7219e-04\n",
            "LSTM Test MSE: 0.00034952451824210584\n",
            "LSTM Test MAE: 0.012208573520183563\n",
            "LSTM Test RMSE: 0.018695574830480764\n",
            "\n",
            "Evaluating GRU model:\n",
            "\u001b[1m300/300\u001b[0m \u001b[32m━━━━━━━━━━━━━━━━━━━━\u001b[0m\u001b[37m\u001b[0m \u001b[1m1s\u001b[0m 3ms/step - loss: 4.0865e-04 - mae: 0.0134 - mse: 4.0865e-04\n",
            "GRU Test MSE: 0.00038620023406110704\n",
            "GRU Test MAE: 0.012897929176688194\n",
            "GRU Test RMSE: 0.019651977866390627\n"
          ]
        }
      ]
    },
    {
      "cell_type": "markdown",
      "source": [
        "**Conclusion (Comparing SimpleRNN, LSTM, and GRU)**\n",
        "\n",
        "From the final test metrics, we observe:\n",
        "\n",
        "- **SimpleRNN** achieves a Test MSE of ~`3.93e-04` (RMSE ~`0.01983`),\n",
        "  MAE ~`0.01307`.\n",
        "- **LSTM** performs slightly better with a Test MSE of ~`3.50e-04` (RMSE ~`0.01870`),\n",
        "  MAE ~`0.01221`.\n",
        "- **GRU** lands between the two, with a Test MSE of ~`3.86e-04` (RMSE ~`0.01965`),\n",
        "  MAE ~`0.01290`.\n",
        "\n",
        "Although the differences are relatively small on this normalized scale, the LSTM\n",
        "does come out on top overall. The SimpleRNN, despite its simpler architecture,\n",
        "still does quite well, but might be more prone to issues with longer time\n",
        "dependencies. The GRU’s performance is close to both, suggesting that for this\n",
        "particular weather dataset, all three architectures can capture short-term\n",
        "temporal patterns effectively.\n",
        "\n",
        "**Insights:**\n",
        "1. **LSTM’s Edge**: The extra gating (input, forget, output) may help it learn\n",
        "   nuanced temporal relationships, leading to a slightly lower error.\n",
        "2. **GRU Efficiency**: While GRUs can sometimes match or outperform LSTMs, here\n",
        "   it ends up slightly behind LSTM, but still better than a simple RNN.\n",
        "3. **SimpleRNN**: The baseline model converges quickly and is simpler to train\n",
        "   but lacks the gating mechanisms to handle longer or more complex dependencies\n",
        "   as effectively.\n",
        "4. **Data-Specific Results**: These differences might grow or shrink on larger,\n",
        "   noisier, or more complex time-series data. For this dataset, all three do\n",
        "   fairly well, but the LSTM’s ability to capture subtle temporal dependencies\n",
        "   appears most beneficial.\n",
        "\n",
        "Overall, each architecture can forecast temperature with low MSE and MAE on a\n",
        "normalized scale, but LSTM offers the best balance of stable convergence and\n",
        "final accuracy in this experiment."
      ],
      "metadata": {
        "id": "MUISl0uCEASE"
      }
    },
    {
      "cell_type": "markdown",
      "source": [
        "**Task 2 Part 3 (10 points): Using a Traditional Feed-Forward Network for Time-Series**\n",
        "\n",
        "Yes, it is indeed possible to use a traditional feed-forward (or fully connected)\n",
        "network to tackle a time-series problem, but there are important considerations:\n",
        "\n",
        "1. **Flattening or Lag Features**:\n",
        "   - One straightforward approach is to convert your time-series window into a\n",
        "     set of “lag features.” For instance, if you want your model to “see” the past\n",
        "     7 timesteps, you can simply create 7 input columns (one for each past temperature),\n",
        "     along with any other features (like humidity, pressure, etc.) over the same\n",
        "     7 timesteps.\n",
        "   - You then feed this flattened vector of inputs (e.g., `[temp_t-7, temp_t-6, ..., temp_t-1]`)\n",
        "     into a standard feed-forward neural network.\n",
        "   - The model, however, will treat each of these inputs as if they were just distinct\n",
        "     features—not inherently connected by temporal ordering.\n",
        "\n",
        "2. **Loss of Sequential Modeling**:\n",
        "   - While a feed-forward network can technically “learn” from these lag features,\n",
        "     it does not maintain any hidden state that evolves over time (unlike an RNN, LSTM, or GRU).\n",
        "     As a result, it might not capture longer or more subtle temporal dependencies\n",
        "     unless you manually include a larger number of lag features or additional\n",
        "     time-based feature engineering (e.g., rolling averages, differences, etc.).\n",
        "\n",
        "3. **Practical Example**:\n",
        "   - Suppose you have temperature data for the past 7 hours as: `Temp(t-7), Temp(t-6), ... Temp(t-1)`.\n",
        "     You could arrange your dataset so that each row has these 7 columns plus the\n",
        "     target `Temp(t)`. Something like:\n",
        "\n",
        "     | Temp(t-7) | Temp(t-6) | ... | Temp(t-1) | Target Temp(t) |\n",
        "     |-----------|-----------|-----|-----------|-----------------|\n",
        "     | 15.2      | 15.1      | ... | 14.8      | 14.7           |\n",
        "\n",
        "     Then you feed the 7 values into a feed-forward network with, say, a couple of\n",
        "     dense hidden layers, and train it to output `Temp(t)`.\n",
        "\n",
        "4. **Advantages and Disadvantages**:\n",
        "   - **Advantage**: Simpler approach and easy to implement (it’s just standard regression\n",
        "     with multiple features). Works reasonably well for short-term forecasts where\n",
        "     the time dependency isn’t too complex or too long-range.\n",
        "   - **Disadvantage**: For more complex patterns or longer horizons, it can become unwieldy\n",
        "     (you might need 30, 50, or 100 lagged features). It also doesn’t inherently\n",
        "     learn or adapt to changing temporal relationships as elegantly as a recurrent\n",
        "     architecture would.\n",
        "\n",
        "5. **Why or Why Not?**:\n",
        "   - **Why:** If the time-series patterns are short-term or you have a small window size,\n",
        "     a feed-forward net can still yield decent performance. You can manually craft\n",
        "     any “memory” into features (e.g., using rolling averages or differencing).\n",
        "     Also, feed-forward networks can be simpler or faster to train for smaller datasets.\n",
        "   - **Why Not:** If your data spans longer time periods or exhibits intricate\n",
        "     temporal dependencies, an RNN (LSTM/GRU) often outperforms a purely feed-forward\n",
        "     approach. RNNs handle time inherently, whereas feed-forward networks need you\n",
        "     to supply the time context via a (sometimes large) feature set.\n",
        "\n",
        "**Bottom Line:**  \n",
        "Converting time-series data into a feed-forward problem is absolutely feasible,\n",
        "but it can require manual feature engineering to represent the temporal dimension,\n",
        "and may not capture longer-term patterns as naturally as sequence models."
      ],
      "metadata": {
        "id": "PPtSDk-DEBxb"
      }
    },
    {
      "cell_type": "markdown",
      "source": [
        "**Task 3 Part 1 (10 Points): Implementing Word Embeddings**\n",
        "\n",
        "We will demonstrate how to load and use a pre-trained word embedding model.\n",
        "For this example, we will use the **Word2Vec** embeddings from Google News\n",
        "trained by Google. The reasons for choosing Word2Vec over other embeddings\n",
        "like GloVe, FastText, or BERT are as follows:\n",
        "\n",
        "1. **Size vs. Performance**: Word2Vec is a simpler model compared to BERT\n",
        "   (which is a large transformer-based model). For many use-cases,\n",
        "   Word2Vec can offer a good balance between accuracy and computational overhead.\n",
        "2. **Interpretability**: The Word2Vec vectors can easily be manipulated\n",
        "   and inspected. They also have been shown to capture semantic and syntactic\n",
        "   relationships quite well (e.g., \"king\" - \"man\" + \"woman\" = \"queen\").\n",
        "3. **Coverage & Availability**: The Google News pretrained vectors are\n",
        "   widely used, covering ~3 million English words and phrases. They are\n",
        "   readily available and well-documented.\n",
        "\n",
        "However, other embeddings have their own advantages:\n",
        "- **GloVe** (from Stanford): Also widely used, good performance,\n",
        "  straightforward to load and use.\n",
        "- **FastText** (from Facebook Research): Handles out-of-vocabulary (OOV) words\n",
        "  more gracefully by using subword units.\n",
        "- **BERT/Transformer embeddings** (from Hugging Face): Contextual embeddings\n",
        "  that capture meaning of words within sentences, but are larger and more\n",
        "  computationally expensive to run.\n",
        "\n",
        "For this assignment, we'll demonstrate Word2Vec with Gensim, but the same\n",
        "principles apply to other embedding approaches (with minor differences in loading\n",
        "and handling OOV words)."
      ],
      "metadata": {
        "id": "rqOkDgUaJnyn"
      }
    },
    {
      "cell_type": "markdown",
      "source": [
        "We will load the pre-trained Google News Word2Vec model using the Gensim library. The word2vec model was aquired from [Word2Vec Model](https://huggingface.co/NathaNn1111/word2vec-google-news-negative-300-bin).\n"
      ],
      "metadata": {
        "id": "fQGfECLVJw4a"
      }
    },
    {
      "cell_type": "code",
      "source": [
        "from google.colab import drive\n",
        "drive.mount('/content/drive')\n",
        "\n",
        "import os\n",
        "print(os.listdir('/content/drive/MyDrive/Colab Notebooks'))\n"
      ],
      "metadata": {
        "colab": {
          "base_uri": "https://localhost:8080/"
        },
        "id": "dPvKthvdJ6Dg",
        "outputId": "b61f3858-a8bb-4a61-c0ae-fcbac26ee874"
      },
      "execution_count": 31,
      "outputs": [
        {
          "output_type": "stream",
          "name": "stdout",
          "text": [
            "Mounted at /content/drive\n",
            "['Projects in AI & ML HWs', 'hw1.ipynb', 'HW2.ipynb', 'HW3.ipynb', 'HW4 (1).ipynb', 'GoogleNews-vectors-negative300.bin', 'Untitled0.ipynb', 'HW4.ipynb']\n"
          ]
        }
      ]
    },
    {
      "cell_type": "code",
      "source": [
        "word2vec_path = '/content/drive/MyDrive/Colab Notebooks/GoogleNews-vectors-negative300.bin'\n",
        "\n",
        "import gensim\n",
        "import numpy as np\n",
        "\n",
        "try:\n",
        "    w2v_model = gensim.models.KeyedVectors.load_word2vec_format(word2vec_path, binary=True)\n",
        "    print(\"Successfully loaded Word2Vec model.\")\n",
        "except Exception as e:\n",
        "    print(\"Error loading model:\", e)\n",
        "    w2v_model = None"
      ],
      "metadata": {
        "colab": {
          "base_uri": "https://localhost:8080/"
        },
        "id": "Pczbabz_Qgjb",
        "outputId": "9aa75cdb-9bc1-4d99-d995-0405c751e853"
      },
      "execution_count": 32,
      "outputs": [
        {
          "output_type": "stream",
          "name": "stdout",
          "text": [
            "Successfully loaded Word2Vec model.\n"
          ]
        }
      ]
    },
    {
      "cell_type": "markdown",
      "source": [
        "We want to allow a user to input two words. We will:\n",
        "1. Retrieve their embeddings from the loaded model.\n",
        "2. Print or return these vectors.\n",
        "3. Handle out-of-vocabulary (OOV) cases by providing a fallback\n",
        "   (e.g., random vector, average of known synonyms, or ignoring the word altogether).\n",
        "\n",
        "Below is a simple interactive snippet. We'll also demonstrate how to handle\n",
        "an OOV scenario gracefully."
      ],
      "metadata": {
        "id": "h2i5J8bMRE8P"
      }
    },
    {
      "cell_type": "code",
      "source": [
        "def get_embedding(word, model, vector_dim=300):\n",
        "    \"\"\"\n",
        "    Retrieves the embedding of 'word' from the given 'model'.\n",
        "    If the word is not in the vocabulary, returns None (or a fallback).\n",
        "    \"\"\"\n",
        "    if word in model.key_to_index:\n",
        "        return model[word]\n",
        "    else:\n",
        "        return None\n",
        "\n",
        "if w2v_model:\n",
        "    # Prompt user for two words:\n",
        "    word1 = input(\"Enter the first word: \").strip()\n",
        "    word2 = input(\"Enter the second word: \").strip()\n",
        "\n",
        "    # Get embeddings\n",
        "    vec1 = get_embedding(word1, w2v_model)\n",
        "    vec2 = get_embedding(word2, w2v_model)\n",
        "\n",
        "    if vec1 is not None:\n",
        "        print(f\"Embedding for '{word1}' found. Vector length: {len(vec1)}\")\n",
        "        print(\"Sample of embedding:\", vec1[:10])\n",
        "    else:\n",
        "        print(f\"'{word1}' not in vocabulary. Handling OOV case...\")\n",
        "\n",
        "    if vec2 is not None:\n",
        "        print(f\"\\nEmbedding for '{word2}' found. Vector length: {len(vec2)}\")\n",
        "        print(\"Sample of embedding:\", vec2[:10])\n",
        "    else:\n",
        "        print(f\"'{word2}' not in vocabulary. Handling OOV case...\")"
      ],
      "metadata": {
        "colab": {
          "base_uri": "https://localhost:8080/"
        },
        "id": "8MNWnbWhRIyF",
        "outputId": "19dd239a-51f8-4b63-ba7e-6ee750d1ab8a"
      },
      "execution_count": 34,
      "outputs": [
        {
          "output_type": "stream",
          "name": "stdout",
          "text": [
            "Enter the first word: king\n",
            "Enter the second word: queen\n",
            "Embedding for 'king' found. Vector length: 300\n",
            "Sample of embedding: [ 0.12597656  0.02978516  0.00860596  0.13964844 -0.02563477 -0.03613281\n",
            "  0.11181641 -0.19824219  0.05126953  0.36328125]\n",
            "\n",
            "Embedding for 'queen' found. Vector length: 300\n",
            "Sample of embedding: [ 0.00524902 -0.14355469 -0.06933594  0.12353516  0.13183594 -0.08886719\n",
            " -0.07128906 -0.21679688 -0.19726562  0.05566406]\n"
          ]
        }
      ]
    },
    {
      "cell_type": "markdown",
      "source": [
        "Word2Vec (and similarly GloVe) models can only produce embeddings for words\n",
        "they have actually \"seen\" during training. Any word not in their vocabulary\n",
        "is considered OOV.\n",
        "\n",
        "**Potential strategies to address OOV**:\n",
        "\n",
        "1. **Use Zero or Random Vectors**: Quick fallback that won't necessarily\n",
        "   capture meaning, but ensures a fixed dimension.\n",
        "2. **Subword Models (FastText)**: FastText handles OOV by composing subword\n",
        "   units. For instance, if \"motherboard\" is not in the vocabulary,\n",
        "   the model can still generate an embedding using pieces (\"mother\", \"board\")\n",
        "   recognized from training.\n",
        "3. **Approximate with Synonyms**: If a word is missing, check a thesaurus\n",
        "   or similar words in the vocabulary to approximate the vector.\n",
        "   For example, if \"tempest\" is OOV, fallback to \"storm\" if it’s available.\n",
        "4. **Contextual Embeddings (BERT)**: Contextual models handle OOV differently\n",
        "   by tokenizing into smaller pieces. They can produce embeddings for\n",
        "   many more variants of words but require more computational resources.\n",
        "\n",
        "In this snippet, we chose to **return `None`** for OOV words, but in a\n",
        "production scenario, you might adopt one of the above strategies\n",
        "(depending on your application)."
      ],
      "metadata": {
        "id": "7U6t5_t3Rmx1"
      }
    },
    {
      "cell_type": "markdown",
      "source": [
        "**Task 3 Part 2 (20 Points):**\n",
        "**Cosine Similarity for Word Embeddings**\n",
        "\n",
        "- **Definition**: The cosine similarity between two vectors $$\\mathbf{u} $$ and $$ \\mathbf{v}$$  is:\n",
        "  $$\n",
        "      \\text{cosine_similarity}(\\mathbf{u}, \\mathbf{v}) = \\frac{\\mathbf{u} \\cdot \\mathbf{v}}{\\|\\mathbf{u}\\| \\|\\mathbf{v}\\|}\n",
        "  $$\n",
        "\n",
        "- **Why Cosine Similarity is Useful**:\n",
        "  1. **Magnitude Independence**: It focuses on the angle between vectors rather than their magnitudes. This is helpful because two words can have different vector magnitudes but still be very similar in direction (i.e., meaning).\n",
        "  2. **Semantic Closeness**: In word embedding space, words that share similar contexts often end up with vectors pointing in similar directions. Cosine similarity captures this alignment effectively.\n",
        "  3. **Robustness**: It's less sensitive to absolute scaling differences in the embeddings, making it a standard measure in NLP tasks (such as similarity, clustering, or searching for semantically related words).\n",
        "\n",
        "In the next code block, I implement a simple function `cosine_similarity` that\n",
        "accepts two embeddings and returns a scalar similarity score in the range \\([-1, 1]\\),\n",
        "with 1 indicating identical direction and -1 indicating completely opposite direction."
      ],
      "metadata": {
        "id": "Nj0umLB_SQxe"
      }
    },
    {
      "cell_type": "code",
      "source": [
        "import numpy as np\n",
        "\n",
        "def cosine_similarity(vec1, vec2):\n",
        "    \"\"\"\n",
        "    Computes cosine similarity between two word embedding vectors.\n",
        "    Returns a scalar in the range [-1, 1].\n",
        "    \"\"\"\n",
        "    dot_product = np.dot(vec1, vec2)\n",
        "    norm1 = np.linalg.norm(vec1)\n",
        "    norm2 = np.linalg.norm(vec2)\n",
        "    if norm1 == 0 or norm2 == 0:\n",
        "        # If either vector is all zeros or invalid\n",
        "        return 0.0\n",
        "    return dot_product / (norm1 * norm2)\n",
        "\n",
        "# Quick test with random vectors:\n",
        "test_vec1 = np.array([1, 2, 3], dtype=float)\n",
        "test_vec2 = np.array([1, 2, 3], dtype=float)\n",
        "print(\"Similarity (should be 1.0 for identical vectors):\", cosine_similarity(test_vec1, test_vec2))"
      ],
      "metadata": {
        "colab": {
          "base_uri": "https://localhost:8080/"
        },
        "id": "aqmAf8rfSX-2",
        "outputId": "6ea568d3-23ba-4575-cf68-ce673c59f525"
      },
      "execution_count": 35,
      "outputs": [
        {
          "output_type": "stream",
          "name": "stdout",
          "text": [
            "Similarity (should be 1.0 for identical vectors): 1.0\n"
          ]
        }
      ]
    },
    {
      "cell_type": "markdown",
      "source": [
        "We want to allow users to input multiple word pairs and get a batch of similarity\n",
        "scores. We'll:\n",
        "1. Collect all pairs in a list.\n",
        "2. For each pair, retrieve the embedding from our loaded word2vec model.\n",
        "3. Compute cosine similarity (if both words are in-vocab).\n",
        "4. Output the results in a structured way.\n",
        "\n",
        "If a word is out-of-vocabulary (OOV), we print a message or handle it as we did in Part 1."
      ],
      "metadata": {
        "id": "EbxgekRGSgxc"
      }
    },
    {
      "cell_type": "code",
      "source": [
        "def batch_cosine_similarity(word_pairs, model):\n",
        "    \"\"\"\n",
        "    Given a list of (word1, word2) pairs and a loaded embedding model,\n",
        "    compute the cosine similarity for each pair.\n",
        "    Returns a list of results in the format:\n",
        "    [ ((word1, word2), similarity), ... ]\n",
        "    \"\"\"\n",
        "    results = []\n",
        "    for w1, w2 in word_pairs:\n",
        "        if w1 in model.key_to_index and w2 in model.key_to_index:\n",
        "            vec1 = model[w1]\n",
        "            vec2 = model[w2]\n",
        "            sim = cosine_similarity(vec1, vec2)\n",
        "            results.append(((w1, w2), sim))\n",
        "        else:\n",
        "            # Handle OOV or partial OOV\n",
        "            results.append(((w1, w2), None))\n",
        "    return results\n",
        "\n",
        "if w2v_model:\n",
        "    # Example usage\n",
        "    user_pairs = [\n",
        "        (\"king\", \"queen\"),\n",
        "        (\"apple\", \"banana\"),\n",
        "        (\"fast\", \"quick\"),\n",
        "        (\"python\", \"java\"),    # Both in-vocab (tech-related words)\n",
        "        (\"xyznotaword\", \"test\") # Likely OOV\n",
        "    ]\n",
        "    similarities = batch_cosine_similarity(user_pairs, w2v_model)\n",
        "\n",
        "    for (w1, w2), sim in similarities:\n",
        "        if sim is not None:\n",
        "            print(f\"{w1} vs {w2}: Cosine Similarity = {sim:.4f}\")\n",
        "        else:\n",
        "            print(f\"{w1} vs {w2}: (OOV encountered)\")"
      ],
      "metadata": {
        "colab": {
          "base_uri": "https://localhost:8080/"
        },
        "id": "W2Qn9auKSjNB",
        "outputId": "cc945c53-b4e2-428c-f0ed-eecd560a19f4"
      },
      "execution_count": 36,
      "outputs": [
        {
          "output_type": "stream",
          "name": "stdout",
          "text": [
            "king vs queen: Cosine Similarity = 0.6511\n",
            "apple vs banana: Cosine Similarity = 0.5318\n",
            "fast vs quick: Cosine Similarity = 0.5702\n",
            "python vs java: Cosine Similarity = 0.1254\n",
            "xyznotaword vs test: (OOV encountered)\n"
          ]
        }
      ]
    },
    {
      "cell_type": "markdown",
      "source": [
        "We can visualize how words cluster in embedding space using **PCA** or **t-SNE**.\n",
        "Both are dimensionality reduction techniques:\n",
        "\n",
        "- **PCA (Principal Component Analysis)**: A linear method that finds the main axes of variance.\n",
        "- **t-SNE (t-distributed Stochastic Neighbor Embedding)**: A non-linear method\n",
        "  often better at capturing local cluster structure in high-dimensional data.\n",
        "\n",
        "We'll:\n",
        "1. Pick a set of words (some synonyms, antonyms, or related words).\n",
        "2. Retrieve their embeddings from the model.\n",
        "3. Use PCA or t-SNE to reduce dimensions from 300 → 2 (or 3).\n",
        "4. Plot them on a scatter plot, labeling each point with the word.\n",
        "\n",
        "Note: t-SNE can be slow for large datasets, but works fine for a small set of words."
      ],
      "metadata": {
        "id": "1ijxeSPLSqPK"
      }
    },
    {
      "cell_type": "code",
      "source": [
        "import matplotlib.pyplot as plt\n",
        "from sklearn.decomposition import PCA\n",
        "from sklearn.manifold import TSNE\n",
        "\n",
        "def visualize_embeddings(words, model, method='pca'):\n",
        "    \"\"\"\n",
        "    Visualize a set of words in 2D space using PCA or t-SNE.\n",
        "    :param words: list of words to visualize\n",
        "    :param model: loaded word embedding model\n",
        "    :param method: 'pca' or 'tsne'\n",
        "    \"\"\"\n",
        "    # Filter out OOV words\n",
        "    in_vocab_words = [w for w in words if w in model.key_to_index]\n",
        "\n",
        "    # Retrieve embeddings\n",
        "    embeddings = [model[w] for w in in_vocab_words]\n",
        "\n",
        "    # Reduce dimensionality\n",
        "    if method.lower() == 'pca':\n",
        "        reducer = PCA(n_components=2)\n",
        "        reduced = reducer.fit_transform(embeddings)\n",
        "    elif method.lower() == 'tsne':\n",
        "        reducer = TSNE(n_components=2, learning_rate='auto', init='pca', random_state=42)\n",
        "        reduced = reducer.fit_transform(embeddings)\n",
        "    else:\n",
        "        raise ValueError(\"method must be 'pca' or 'tsne'\")\n",
        "\n",
        "    # Plot\n",
        "    plt.figure(figsize=(8, 6))\n",
        "    for i, word in enumerate(in_vocab_words):\n",
        "        x, y = reduced[i][0], reduced[i][1]\n",
        "        plt.scatter(x, y)\n",
        "        plt.text(x+0.01, y+0.01, word, fontsize=9)\n",
        "\n",
        "    plt.title(f\"2D Visualization of Word Embeddings using {method.upper()}\")\n",
        "    plt.xlabel(\"Dimension 1\")\n",
        "    plt.ylabel(\"Dimension 2\")\n",
        "    plt.grid(True)\n",
        "    plt.show()\n",
        "\n",
        "if w2v_model:\n",
        "    word_list = [\n",
        "        \"king\", \"queen\", \"man\", \"woman\",\n",
        "        \"apple\", \"banana\", \"fruit\", \"orange\",\n",
        "        \"fast\", \"quick\", \"slow\", \"rapid\",\n",
        "        \"car\", \"truck\", \"bus\", \"train\",\n",
        "        \"python\", \"java\", \"javascript\"\n",
        "    ]\n",
        "\n",
        "    visualize_embeddings(word_list, w2v_model, method='pca')\n",
        ""
      ],
      "metadata": {
        "colab": {
          "base_uri": "https://localhost:8080/",
          "height": 564
        },
        "id": "o9rK6syNSvVt",
        "outputId": "eb972deb-c65d-4770-ab02-07a7c2dc35e4"
      },
      "execution_count": 38,
      "outputs": [
        {
          "output_type": "display_data",
          "data": {
            "text/plain": [
              "<Figure size 800x600 with 1 Axes>"
            ],
            "image/png": "[encoded data removed]"
          },
          "metadata": {}
        }
      ]
    },
    {
      "cell_type": "markdown",
      "source": [
        "**Task 3 Part 3 (20 Points): Designing a Novel Dissimilarity Metric**\n",
        "\n",
        "While cosine similarity is a popular choice for comparing word embeddings,\n",
        "sometimes we want to capture additional aspects of “dissimilarity” or “novelty”\n",
        "that go beyond the simple angular difference in vector space.\n",
        "\n",
        "**Examples of Alternative Metrics**:\n",
        "1. **Euclidean Distance**:\n",
        "   - Measures the straight-line distance between two vectors in embedding space.\n",
        "   - If vectors are close in high-dimensional space, they are considered more “similar.”\n",
        "   \n",
        "2. **Word Entropy-based Dissimilarity**:\n",
        "   - Incorporates how frequently (or infrequently) words appear in a corpus.\n",
        "   - Rare words might get higher “importance” or might be considered more “dissimilar”\n",
        "     if their contexts seldom overlap with common words.\n",
        "\n",
        "3. **Semantic Contrast Measures**:\n",
        "   - Rely on external knowledge (e.g., WordNet) to see if two words are synonyms, antonyms,\n",
        "     or in different semantic domains.\n",
        "\n",
        "**Our Custom Metric** (example approach):\n",
        "- We’ll define a function that **combines Euclidean distance** in the embedding space\n",
        "  with **an inverse frequency term**. The intuition is:\n",
        "  - If two words are close in vector space, but one is extremely rare compared to the other,\n",
        "    we might consider them more dissimilar.\n",
        "  - Conversely, if both are close *and* have similar frequency ranks,\n",
        "    they’re likely more semantically related.\n",
        "\n",
        "Show:\n",
        "- **Toggling** between cosine similarity, Euclidean distance, and our custom measure\n",
        "  via a single function parameter.\n",
        "- **Ranking** words by similarity/dissimilarity to a reference word.\n",
        "- **Heatmap** visualization to compare multiple word pairs across different metrics."
      ],
      "metadata": {
        "id": "RvAsZoZBTRmG"
      }
    },
    {
      "cell_type": "markdown",
      "source": [
        "Literature:  \n",
        "[Camacho-Collados, J., & Pilehvar, M. T. (2018).  \n",
        "*\"From word to sense embeddings: A survey on vector representations of meaning.\"*  \n",
        "Journal of Artificial Intelligence Research, 63, 743-788.]  \n",
        "\n",
        "They discuss the importance of combining distributional similarity with lexical resources and frequency heuristics for certain tasks.\n",
        "\n",
        "---\n",
        "\n",
        "### **Our Implementation**\n",
        "- Let `freq(w)` be a frequency-based lookup for the word `w`. For demonstration,\n",
        "  we will approximate it with `model.get_vecattr(w, \"count\")` if available  \n",
        "  (some Gensim embeddings store vocabulary counts), or use a fallback dictionary of frequencies.\n",
        "- Let $$ D_{\\text{euclid}}(\\mathbf{v}_1, \\mathbf{v}_2) $$ be the Euclidean distance between embeddings.\n",
        "- Then, define the **custom dissimilarity** as:\n",
        "\n",
        "$$\n",
        "  \\text{custom dissim}(w_1, w_2) = D_{\\text{euclid}}(\\mathbf{v_1}, \\mathbf{v_2})\n",
        "   \\times \\left| \\frac{1}{\\log(\\text{freq}(w_1)+2)} - \\frac{1}{\\log(\\text{freq}(w_2)+2)} \\right|\n",
        "$$\n",
        "\n",
        "We use \\$$( \\log(\\text{freq} + 2) \\) $$ to avoid division by zero and to keep it non-linear.  \n",
        "This is just one possible design. The factor  \n",
        "\n",
        "$$\n",
        "\\left| \\frac{1}{\\log(\\text{freq}(w_1)+2)} - \\frac{1}{\\log(\\text{freq}(w_2)+2)} \\right|\n",
        "$$\n",
        "\n",
        "captures how different the words are in terms of rarity. If both have similar frequencies,  \n",
        "that factor becomes small, thus the distance remains mostly about Euclidean difference.  \n",
        "If one word is rare and the other is common, the factor becomes larger, amplifying the dissimilarity."
      ],
      "metadata": {
        "id": "sm-vU1IUbmkr"
      }
    },
    {
      "cell_type": "code",
      "source": [
        "import numpy as np\n",
        "\n",
        "def euclidean_distance(vec1, vec2):\n",
        "    \"\"\"Compute the Euclidean distance between two vectors.\"\"\"\n",
        "    return np.linalg.norm(vec1 - vec2)\n",
        "\n",
        "def custom_dissim(w1, w2, model, freq_dict=None):\n",
        "    \"\"\"\n",
        "    Custom dissimilarity that combines Euclidean distance in embedding space\n",
        "    with difference in inverse log-frequency.\n",
        "\n",
        "    :param w1, w2: Words to compare\n",
        "    :param model: Loaded word2vec model for retrieving embeddings\n",
        "    :param freq_dict: A dictionary {word: frequency} or method to get word frequency.\n",
        "                      If None, we use a fallback frequency (e.g. 1) for unknown words.\n",
        "    :return: A float representing dissimilarity (higher => more dissimilar).\n",
        "    \"\"\"\n",
        "    vec1 = model[w1]\n",
        "    vec2 = model[w2]\n",
        "    base_dist = euclidean_distance(vec1, vec2)\n",
        "\n",
        "    # Retrieve frequencies from a dictionary or fallback to 1\n",
        "    f1 = freq_dict[w1] if freq_dict and w1 in freq_dict else 1\n",
        "    f2 = freq_dict[w2] if freq_dict and w2 in freq_dict else 1\n",
        "\n",
        "    # Inverse log frequency difference\n",
        "    diff_freq = abs( (1.0 / np.log(f1 + 2.0)) - (1.0 / np.log(f2 + 2.0)) )\n",
        "    return base_dist * diff_freq\n",
        "\n",
        "def compare_words(w1, w2, model, metric=\"cosine\", freq_dict=None):\n",
        "    \"\"\"\n",
        "    Compare two words using the specified metric: 'cosine', 'euclidean', or 'custom'.\n",
        "    \"\"\"\n",
        "    if w1 not in model.key_to_index or w2 not in model.key_to_index:\n",
        "        return None # OOV\n",
        "\n",
        "    vec1 = model[w1]\n",
        "    vec2 = model[w2]\n",
        "\n",
        "    if metric == \"cosine\":\n",
        "        # We'll reuse the function from Part 2\n",
        "        dot_product = np.dot(vec1, vec2)\n",
        "        norm1 = np.linalg.norm(vec1)\n",
        "        norm2 = np.linalg.norm(vec2)\n",
        "        if norm1 == 0 or norm2 == 0:\n",
        "            return 0.0\n",
        "        return dot_product / (norm1 * norm2)\n",
        "    elif metric == \"euclidean\":\n",
        "        return euclidean_distance(vec1, vec2)\n",
        "    elif metric == \"custom\":\n",
        "        return custom_dissim(w1, w2, model, freq_dict)\n",
        "    else:\n",
        "        raise ValueError(\"metric must be one of: 'cosine', 'euclidean', or 'custom'\")"
      ],
      "metadata": {
        "id": "GV7xkftLbph-"
      },
      "execution_count": 39,
      "outputs": []
    },
    {
      "cell_type": "markdown",
      "source": [
        "We can pick a reference word and compute how other words rank relative to it using\n",
        "our three different metrics. For similarity-based metrics (like cosine),\n",
        "higher is more similar. For dissimilarity-based metrics (like Euclidean or custom),\n",
        "lower is more similar (because distance is smaller).\n",
        "\n",
        "To unify this for ranking, we can define separate “similarity” or “distance”\n",
        "functions or just be consistent about inverting one if needed.\n",
        "In the example below, we’ll demonstrate ranking by “most similar” for cosine,\n",
        "and “least distance” for Euclidean/custom.\n",
        "We just need to clarify what we’re sorting by."
      ],
      "metadata": {
        "id": "Mlh3BpWhbr1s"
      }
    },
    {
      "cell_type": "code",
      "source": [
        "def rank_words(reference_word, candidates, model, metric=\"cosine\", freq_dict=None, top_n=5):\n",
        "    \"\"\"\n",
        "    Ranks candidate words based on similarity or dissimilarity to a reference word,\n",
        "    depending on the chosen metric. Returns the top_n results (lowest distance or highest similarity).\n",
        "    \"\"\"\n",
        "    results = []\n",
        "\n",
        "    for w in candidates:\n",
        "        if w == reference_word:\n",
        "            continue\n",
        "        score = compare_words(reference_word, w, model, metric, freq_dict)\n",
        "        if score is not None:\n",
        "            results.append((w, score))\n",
        "\n",
        "    # For cosine: higher => more similar, so sort descending\n",
        "    if metric == \"cosine\":\n",
        "        results.sort(key=lambda x: x[1], reverse=True)\n",
        "    else:\n",
        "        # For 'euclidean' or 'custom': lower => more similar, so sort ascending\n",
        "        results.sort(key=lambda x: x[1])\n",
        "\n",
        "    return results[:top_n]\n",
        "\n",
        "if w2v_model:\n",
        "    # Example usage\n",
        "    reference = \"cat\"\n",
        "    word_list = [\"dog\",\"lion\",\"tiger\",\"table\",\"chair\",\"kitten\",\"puppy\",\"plant\",\"mouse\",\"car\"]\n",
        "\n",
        "    freq_dict = {\n",
        "        \"cat\": 500,\n",
        "        \"dog\": 600,\n",
        "        \"lion\": 100,\n",
        "        \"tiger\": 90,\n",
        "        \"table\": 1000,\n",
        "        \"chair\": 1200,\n",
        "        \"kitten\": 300,\n",
        "        \"puppy\": 400,\n",
        "        \"plant\": 700,\n",
        "        \"mouse\": 450,\n",
        "        \"car\": 2000\n",
        "    }\n",
        "\n",
        "    print(\"Ranking by Cosine Similarity to 'cat':\")\n",
        "    print(rank_words(reference, word_list, w2v_model, metric=\"cosine\", freq_dict=freq_dict))\n",
        "\n",
        "    print(\"\\nRanking by Euclidean Distance to 'cat':\")\n",
        "    print(rank_words(reference, word_list, w2v_model, metric=\"euclidean\", freq_dict=freq_dict))\n",
        "\n",
        "    print(\"\\nRanking by Custom Dissimilarity to 'cat':\")\n",
        "    print(rank_words(reference, word_list, w2v_model, metric=\"custom\", freq_dict=freq_dict))"
      ],
      "metadata": {
        "colab": {
          "base_uri": "https://localhost:8080/"
        },
        "id": "TCCzcPHPbt7r",
        "outputId": "95b4de06-636e-4e02-9e11-150617780f38"
      },
      "execution_count": 40,
      "outputs": [
        {
          "output_type": "stream",
          "name": "stdout",
          "text": [
            "Ranking by Cosine Similarity to 'cat':\n",
            "[('dog', 0.76094574), ('kitten', 0.7464984), ('puppy', 0.70754534), ('tiger', 0.5172962), ('mouse', 0.46566278)]\n",
            "\n",
            "Ranking by Euclidean Distance to 'cat':\n",
            "[('dog', 2.0815337), ('kitten', 2.3034523), ('puppy', 2.4245925), ('mouse', 3.2288268), ('tiger', 3.2323527)]\n",
            "\n",
            "Ranking by Custom Dissimilarity to 'cat':\n",
            "[('mouse', 0.008910437111994926), ('dog', 0.009500496058699865), ('puppy', 0.01444422437172073), ('kitten', 0.03296322328674975), ('plant', 0.03481235839234141)]\n"
          ]
        }
      ]
    },
    {
      "cell_type": "markdown",
      "source": [
        "We can also visualize how multiple words compare to each other by plotting\n",
        "a heatmap of metric scores. For example, we’ll pick a set of words, compute\n",
        "either “cosine similarity” or “custom dissimilarity” for every pair, and then\n",
        "display that in a matrix form.\n",
        "\n",
        "**Steps**:\n",
        "1. Construct a 2D matrix M where M[i,j] = similarity/dissimilarity between word i and word j.\n",
        "2. Use matplotlib/seaborn to plot a heatmap.\n",
        "3. Interpret the resulting clusters or patterns:\n",
        "   - For similarity, darker might mean higher similarity;\n",
        "   - For dissimilarity, darker might mean more distance."
      ],
      "metadata": {
        "id": "gci84nh_bxMK"
      }
    },
    {
      "cell_type": "code",
      "source": [
        "import seaborn as sns\n",
        "import matplotlib.pyplot as plt\n",
        "\n",
        "def plot_heatmap(words, model, metric=\"cosine\", freq_dict=None):\n",
        "    \"\"\"\n",
        "    Plot a heatmap of pairwise metric scores for the given list of words.\n",
        "    \"\"\"\n",
        "    # Filter out OOV\n",
        "    valid_words = [w for w in words if w in model.key_to_index]\n",
        "    size = len(valid_words)\n",
        "\n",
        "    scores = np.zeros((size, size))\n",
        "\n",
        "    for i in range(size):\n",
        "        for j in range(size):\n",
        "            if i == j:\n",
        "                # Same word comparison\n",
        "                scores[i, j] = 1.0 if metric==\"cosine\" else 0.0\n",
        "            else:\n",
        "                val = compare_words(valid_words[i], valid_words[j], model, metric, freq_dict)\n",
        "                # For distance-based metrics, we store val as is\n",
        "                # For cosine, we store 1 - cos to interpret it as \"distance\" in the heatmap, OR keep cos directly\n",
        "                scores[i, j] = val if val is not None else 0.0\n",
        "\n",
        "    plt.figure(figsize=(8,6))\n",
        "    sns.heatmap(scores, xticklabels=valid_words, yticklabels=valid_words, annot=True, cmap=\"viridis\")\n",
        "    plt.title(f\"{metric.capitalize()} matrix for words\")\n",
        "    plt.show()\n",
        "\n",
        "if w2v_model:\n",
        "    words_to_compare = [\"cat\",\"dog\",\"lion\",\"table\",\"chair\",\"kitten\",\"car\",\"mouse\",\"plant\"]\n",
        "\n",
        "    print(\"\\nHeatmap - Cosine Similarities:\")\n",
        "    plot_heatmap(words_to_compare, w2v_model, metric=\"cosine\", freq_dict=freq_dict)\n",
        "\n",
        "    print(\"\\nHeatmap - Custom Dissimilarities:\")\n",
        "    plot_heatmap(words_to_compare, w2v_model, metric=\"custom\", freq_dict=freq_dict)"
      ],
      "metadata": {
        "colab": {
          "base_uri": "https://localhost:8080/",
          "height": 1000
        },
        "id": "YejbXT9Kb09T",
        "outputId": "6cdd5c9f-fc3f-401e-8239-e05e8ec4337a"
      },
      "execution_count": 41,
      "outputs": [
        {
          "output_type": "stream",
          "name": "stdout",
          "text": [
            "\n",
            "Heatmap - Cosine Similarities:\n"
          ]
        },
        {
          "output_type": "display_data",
          "data": {
            "text/plain": [
              "<Figure size 800x600 with 2 Axes>"
            ],
            "image/png": "[encoded data removed]"
          },
          "metadata": {}
        },
        {
          "output_type": "stream",
          "name": "stdout",
          "text": [
            "\n",
            "Heatmap - Custom Dissimilarities:\n"
          ]
        },
        {
          "output_type": "display_data",
          "data": {
            "text/plain": [
              "<Figure size 800x600 with 2 Axes>"
            ],
            "image/png": "[encoded data removed]"
          },
          "metadata": {}
        }
      ]
    },
    {
      "cell_type": "markdown",
      "source": [
        "**Concluding Observations**\n",
        "\n",
        "From the ranking results and heatmaps, we can see how each metric\n",
        "(Cosine Similarity, Euclidean Distance, and our Custom Dissimilarity)\n",
        "captures word relationships differently:\n",
        "\n",
        "1. **Cosine Similarity**  \n",
        "   - Focuses solely on the angle between vectors.  \n",
        "   - Ranks words like \"dog,\" \"kitten,\" and \"puppy\" as most similar to \"cat,\"\n",
        "     which aligns with our expectation that these animals share many\n",
        "     contextual features in language use.  \n",
        "   - The heatmap shows near-diagonal areas of high similarity for semantically\n",
        "     related terms (e.g., \"cat\" and \"dog\").\n",
        "\n",
        "2. **Euclidean Distance**  \n",
        "   - Measures raw spatial distance.  \n",
        "   - Also puts \"dog,\" \"kitten,\" and \"puppy\" close to \"cat,\" but the exact\n",
        "     ordering of these neighbors can differ from cosine due to differences\n",
        "     in the magnitude of the vectors.  \n",
        "   - While the resulting top-5 “closest” words mostly overlap with cosine’s picks,\n",
        "     certain pairs might swap rank because vector magnitudes affect\n",
        "     Euclidean distance more than angles alone.\n",
        "\n",
        "3. **Custom Dissimilarity (Euclidean × Frequency Factor)**  \n",
        "   - Introduces a frequency-based penalty or boost.  \n",
        "   - Interestingly, **“mouse”** ranks as the closest to “cat” under this metric,\n",
        "     indicating that although “mouse” and “cat” may not be extremely close in\n",
        "     raw embedding space, their frequency profiles (in this example’s data)\n",
        "     reduce their overall dissimilarity.  \n",
        "   - “Plant” also appears in the top list, which may reflect how its distance\n",
        "     plus frequency combination ends up numerically small. If both “cat”\n",
        "     and “plant” have moderate or similar frequency logs, the custom factor\n",
        "     might not inflate their distance as much as it would between words\n",
        "     with drastically different frequency distributions.  \n",
        "   - This reveals how an additional frequency dimension can shift the\n",
        "     interpretation of “closeness” toward or away from certain pairs.\n",
        "\n",
        "**What Do These Differences Mean?**  \n",
        "- **Cosine** and **Euclidean** measure purely geometric properties of the\n",
        "  embeddings (angle vs. raw distance).  \n",
        "- **Custom Metric** attempts to highlight or penalize frequency discrepancies.\n",
        "  This can be valuable if one wants to downplay or amplify certain relationships\n",
        "  based on how commonly (or rarely) words appear in text corpora.  \n",
        "\n",
        "**Practical Takeaways**  \n",
        "- **Task-Driven Choice**: If you want a traditional notion of semantic similarity\n",
        "  (e.g., synonyms or related concepts), cosine or Euclidean might suffice.  \n",
        "- **Contextual Nuances**: If frequency or domain differences matter (e.g.,\n",
        "  distinguishing rare medical terms vs. everyday words), a custom approach\n",
        "  can be more insightful.  \n",
        "- **Visual Clustering**: The heatmaps highlight which words form tighter groups\n",
        "  under each metric. This can guide you in choosing or refining a metric that\n",
        "  aligns best with your domain or application needs.\n",
        "\n",
        "Overall, these metrics provide **complementary perspectives** on \"closeness\" in\n",
        "embedding space. By allowing users to switch between them, we gain richer\n",
        "insights into how words relate in both distributional geometry\n",
        "and real-world usage frequency."
      ],
      "metadata": {
        "id": "Xvnjh9bhb0qr"
      }
    }
  ]
}